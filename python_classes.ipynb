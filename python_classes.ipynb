{
  "nbformat": 4,
  "nbformat_minor": 0,
  "metadata": {
    "colab": {
      "provenance": [],
      "authorship_tag": "ABX9TyO6pzYIKJTV5D2023gpJ33a",
      "include_colab_link": true
    },
    "kernelspec": {
      "name": "python3",
      "display_name": "Python 3"
    },
    "language_info": {
      "name": "python"
    }
  },
  "cells": [
    {
      "cell_type": "markdown",
      "metadata": {
        "id": "view-in-github",
        "colab_type": "text"
      },
      "source": [
        "<a href=\"https://colab.research.google.com/github/alexlinapp/python_tools_practice/blob/main/python_classes.ipynb\" target=\"_parent\"><img src=\"https://colab.research.google.com/assets/colab-badge.svg\" alt=\"Open In Colab\"/></a>"
      ]
    },
    {
      "cell_type": "code",
      "execution_count": 50,
      "metadata": {
        "id": "7xK9gGaLps3G"
      },
      "outputs": [],
      "source": [
        "# Python Classes Refresher: https://docs.python.org/3/tutorial/classes.html"
      ]
    },
    {
      "cell_type": "code",
      "source": [
        "# global scope\n",
        "x = 100\n",
        "\n",
        "def outer():\n",
        "\n",
        "  def inner():\n",
        "    x = 20\n",
        "  inner()\n",
        "\n",
        "outer()\n",
        "print(x)"
      ],
      "metadata": {
        "colab": {
          "base_uri": "https://localhost:8080/"
        },
        "id": "9rH2xgpopvMG",
        "outputId": "5e44a869-3142-4260-8073-2a0871af31fc"
      },
      "execution_count": 24,
      "outputs": [
        {
          "output_type": "stream",
          "name": "stdout",
          "text": [
            "100\n"
          ]
        }
      ]
    },
    {
      "cell_type": "code",
      "source": [
        "# python allows for redefinition of functions. Overrides old functions\n",
        "def outer():\n",
        "  def inner():\n",
        "    global x\n",
        "    x = 50\n",
        "  inner()\n",
        "print(x)\n",
        "outer()\n",
        "print(x)"
      ],
      "metadata": {
        "colab": {
          "base_uri": "https://localhost:8080/"
        },
        "id": "8jpQAJAxqBhv",
        "outputId": "c4272096-ba09-4c84-fd50-3aee168ef436"
      },
      "execution_count": 25,
      "outputs": [
        {
          "output_type": "stream",
          "name": "stdout",
          "text": [
            "100\n",
            "50\n"
          ]
        }
      ]
    },
    {
      "cell_type": "code",
      "source": [
        "# Non-local variables\n",
        "x = 120\n",
        "def outer():\n",
        "  # nonlocal x\n",
        "  # Not allowed!. nonlocal only allowed for nested functions and refers to \"function above its current layer\"\n",
        "  x = 20\n",
        "  def inner():\n",
        "    nonlocal x\n",
        "    print(x)\n",
        "  inner()\n",
        "outer()"
      ],
      "metadata": {
        "colab": {
          "base_uri": "https://localhost:8080/"
        },
        "id": "sw530FgNpytF",
        "outputId": "9be05519-a9fe-4091-ab96-c0db96ad165e"
      },
      "execution_count": 36,
      "outputs": [
        {
          "output_type": "stream",
          "name": "stdout",
          "text": [
            "20\n"
          ]
        }
      ]
    },
    {
      "cell_type": "code",
      "source": [
        "class BaseClass:\n",
        "  def __init__(self, animal, name):\n",
        "    self.animal = animal\n",
        "    self.name = name\n",
        "  # all data members/attributes are public/non private. No such thing as \"private\" variables in python\n",
        "  def print_name(self):\n",
        "    print(self.name)\n",
        "b1 = BaseClass(\"Dog\", \"Fido\")\n",
        "print(b1.animal)\n",
        "print(b1.name)\n",
        "\n",
        "\n",
        "class DerivedClass(BaseClass):\n",
        "  def __init__(self, animal, name, age):\n",
        "    super().__init__(animal, name)  # use super to call parent constructor/base class constructor\n",
        "    self.age = age\n",
        "\n",
        "d1 = DerivedClass(\"Cat\", \"Garfield\", 10)\n",
        "d1.print_name()\n",
        "print(d1.animal)\n",
        "print(d1.name)\n",
        "print(d1.age)"
      ],
      "metadata": {
        "colab": {
          "base_uri": "https://localhost:8080/"
        },
        "id": "_SHf-UQ2un63",
        "outputId": "e07e9934-159c-48ec-b823-914aa01a3d33"
      },
      "execution_count": 49,
      "outputs": [
        {
          "output_type": "stream",
          "name": "stdout",
          "text": [
            "Dog\n",
            "Fido\n",
            "Garfield\n",
            "Cat\n",
            "Garfield\n",
            "10\n"
          ]
        }
      ]
    }
  ]
}