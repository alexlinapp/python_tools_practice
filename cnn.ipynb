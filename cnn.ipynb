{
  "nbformat": 4,
  "nbformat_minor": 0,
  "metadata": {
    "colab": {
      "provenance": [],
      "authorship_tag": "ABX9TyMIDWQD9pxyRIZ8OzXS9YrB"
    },
    "kernelspec": {
      "name": "python3",
      "display_name": "Python 3"
    },
    "language_info": {
      "name": "python"
    }
  },
  "cells": [
    {
      "cell_type": "code",
      "source": [
        "!pip install torchinfo"
      ],
      "metadata": {
        "colab": {
          "base_uri": "https://localhost:8080/"
        },
        "id": "vJLo2dPcz1nx",
        "outputId": "7e1a66ba-9b71-49cd-9049-67379bfa5206"
      },
      "execution_count": 1,
      "outputs": [
        {
          "output_type": "stream",
          "name": "stdout",
          "text": [
            "Collecting torchinfo\n",
            "  Downloading torchinfo-1.8.0-py3-none-any.whl.metadata (21 kB)\n",
            "Downloading torchinfo-1.8.0-py3-none-any.whl (23 kB)\n",
            "Installing collected packages: torchinfo\n",
            "Successfully installed torchinfo-1.8.0\n"
          ]
        }
      ]
    },
    {
      "cell_type": "code",
      "execution_count": 2,
      "metadata": {
        "colab": {
          "base_uri": "https://localhost:8080/"
        },
        "id": "v3pCCg4c9MTw",
        "outputId": "a9f47496-6bce-49c9-d16d-2673083b4e36"
      },
      "outputs": [
        {
          "output_type": "stream",
          "name": "stdout",
          "text": [
            "2.6.0+cu124\n"
          ]
        }
      ],
      "source": [
        "import torch\n",
        "import torch.nn.functional as F\n",
        "from torchvision import datasets, transforms\n",
        "from torch.utils.data import DataLoader\n",
        "from fastai.vision.all import *\n",
        "from torchinfo import summary\n",
        "print(torch.__version__)"
      ]
    },
    {
      "cell_type": "code",
      "source": [
        "transform = transforms.ToTensor()\n",
        "\n",
        "# Download and load MNIST training data\n",
        "mnist_train = datasets.MNIST(root='./data', train=True, download=True, transform=transform)\n",
        "\n",
        "# Download and load MNIST test data\n",
        "mnist_test = datasets.MNIST(root='./data', train=False, download=True, transform=transform)"
      ],
      "metadata": {
        "colab": {
          "base_uri": "https://localhost:8080/"
        },
        "id": "Pfty6PLw-Uje",
        "outputId": "17a71e46-0481-4c07-ded4-7b3fd4608b0c"
      },
      "execution_count": 3,
      "outputs": [
        {
          "output_type": "stream",
          "name": "stderr",
          "text": [
            "100%|██████████| 9.91M/9.91M [00:00<00:00, 54.3MB/s]\n",
            "100%|██████████| 28.9k/28.9k [00:00<00:00, 1.75MB/s]\n",
            "100%|██████████| 1.65M/1.65M [00:00<00:00, 11.4MB/s]\n",
            "100%|██████████| 4.54k/4.54k [00:00<00:00, 1.42MB/s]\n"
          ]
        }
      ]
    },
    {
      "cell_type": "code",
      "source": [
        "dls = DataLoader(mnist_train, batch_size=64, shuffle=True)\n",
        "xb, yb = next(iter(dls))\n",
        "xb = xb.view(64, -1, 28, 28)\n",
        "xb.shape, yb.shape"
      ],
      "metadata": {
        "colab": {
          "base_uri": "https://localhost:8080/"
        },
        "id": "76pcfq7Y-XEn",
        "outputId": "b51c8c20-cdb8-489f-9474-4091fc3a61e8"
      },
      "execution_count": 4,
      "outputs": [
        {
          "output_type": "execute_result",
          "data": {
            "text/plain": [
              "(torch.Size([64, 1, 28, 28]), torch.Size([64]))"
            ]
          },
          "metadata": {},
          "execution_count": 4
        }
      ]
    },
    {
      "cell_type": "code",
      "source": [
        "top_edge = torch.tensor([[-1,-1,-1], [0,0,0], [1,1,1]]).float()\n",
        "bottom_edge = torch.tensor([[1,1,1], [0,0,0], [-1,-1,-1]]).float()\n",
        "edge_kernels = torch.stack([top_edge, bottom_edge]).unsqueeze(1)\n",
        "#show_image(xb[59].view(-1, 28))\n",
        "batch_features = F.conv2d(xb.view(-1, 1, 28, 28), edge_kernels, stride=1, padding=1)\n",
        "show_image(batch_features[59][0])"
      ],
      "metadata": {
        "colab": {
          "base_uri": "https://localhost:8080/",
          "height": 131
        },
        "id": "3QV_LxcQ9RB3",
        "outputId": "0b88cd46-0014-4c66-e7a9-00959c1a518b"
      },
      "execution_count": 5,
      "outputs": [
        {
          "output_type": "execute_result",
          "data": {
            "text/plain": [
              "<Axes: >"
            ]
          },
          "metadata": {},
          "execution_count": 5
        },
        {
          "output_type": "display_data",
          "data": {
            "text/plain": [
              "<Figure size 100x100 with 1 Axes>"
            ],
            "image/png": "[encoded data removed]"
          },
          "metadata": {}
        }
      ]
    },
    {
      "cell_type": "code",
      "source": [
        "broken_cnn = sequential(\n",
        "    nn.Conv2d(1,30, kernel_size=3, padding=1),\n",
        "    nn.ReLU(),\n",
        "    nn.Conv2d(30,1, kernel_size=3, padding=1)\n",
        ")\n",
        "broken_cnn(xb).shape"
      ],
      "metadata": {
        "colab": {
          "base_uri": "https://localhost:8080/"
        },
        "id": "fnSj9mGJldiS",
        "outputId": "748d8f8e-96b4-4e3f-8cab-41a9129dca94"
      },
      "execution_count": 6,
      "outputs": [
        {
          "output_type": "execute_result",
          "data": {
            "text/plain": [
              "torch.Size([64, 1, 28, 28])"
            ]
          },
          "metadata": {},
          "execution_count": 6
        }
      ]
    },
    {
      "cell_type": "code",
      "source": [
        "def conv(ni, nf, ks=3, act=True):\n",
        "  res = nn.Conv2d(ni, nf, stride=2, kernel_size=ks, padding=ks//2)\n",
        "  if act: res = nn.Sequential(res, nn.ReLU())\n",
        "  return res\n",
        "def conv_with_batchnorm(ni, nf, ks=3, act=True):\n",
        "  layers = [nn.Conv2d(ni, nf, stride=2, kernel_size=ks, padding=ks//2)]\n",
        "  if act: layers.append(nn.ReLU())\n",
        "  layers.append(nn.BatchNorm2d(nf))\n",
        "  return nn.Sequential(*layers)\n",
        "\n",
        "# THIS IS STANDARD. Do not want to normalize after activations\n",
        "def conv_with_batchnorm_reversed(ni, nf, ks=3, act=True):\n",
        "  layers = [nn.Conv2d(ni, nf, stride=2, kernel_size=ks, padding=ks//2)]\n",
        "  layers.append(nn.BatchNorm2d(nf))\n",
        "  if act: layers.append(nn.ReLU())\n",
        "  return nn.Sequential(*layers)"
      ],
      "metadata": {
        "id": "XdJZ82aMuxSJ"
      },
      "execution_count": 7,
      "outputs": []
    },
    {
      "cell_type": "code",
      "source": [
        "simple_cnn = sequential(\n",
        "    conv(1 ,4),            #14x14\n",
        "    conv(4 ,8),            #7x7\n",
        "    conv(8 ,16),           #4x4\n",
        "    conv(16,32),           #2x2\n",
        "    conv(32,10, act=False), #1x1\n",
        "    Flatten(),\n",
        ")\n",
        "simple_cnn_v2 = sequential(\n",
        "    conv_with_batchnorm(1 ,8),            #14x14\n",
        "    conv_with_batchnorm(8 ,16),            #7x7\n",
        "    conv_with_batchnorm(16 ,32),           #4x4\n",
        "    conv_with_batchnorm(32,64),           #2x2\n",
        "    conv_with_batchnorm(64,10, act=False), #1x1\n",
        "    Flatten(),\n",
        ")\n",
        "simple_cnn_v3 = sequential(\n",
        "    conv_with_batchnorm_reversed(1 ,8),            #14x14\n",
        "    conv_with_batchnorm_reversed(8 ,16),            #7x7\n",
        "    conv_with_batchnorm_reversed(16 ,32),           #4x4\n",
        "    conv_with_batchnorm_reversed(32,64),           #2x2\n",
        "    conv_with_batchnorm_reversed(64,10, act=False), #1x1\n",
        "    Flatten(),\n",
        ")\n",
        "simple_cnn(xb).shape\n",
        "summary(simple_cnn, input_size=(64, 1, 28, 28))#, simple_cnn(xb).shape\n",
        "summary(simple_cnn_v2, input_size=(64, 1, 28, 28))#, simple_cnn(xb).shape"
      ],
      "metadata": {
        "colab": {
          "base_uri": "https://localhost:8080/"
        },
        "id": "EbF3AZDIyknX",
        "outputId": "8c5d1436-3919-481b-a018-45c0b10e8e9c"
      },
      "execution_count": 8,
      "outputs": [
        {
          "output_type": "execute_result",
          "data": {
            "text/plain": [
              "==========================================================================================\n",
              "Layer (type:depth-idx)                   Output Shape              Param #\n",
              "==========================================================================================\n",
              "Sequential                               [64, 10]                  --\n",
              "├─Sequential: 1-1                        [64, 8, 14, 14]           --\n",
              "│    └─Conv2d: 2-1                       [64, 8, 14, 14]           80\n",
              "│    └─ReLU: 2-2                         [64, 8, 14, 14]           --\n",
              "│    └─BatchNorm2d: 2-3                  [64, 8, 14, 14]           16\n",
              "├─Sequential: 1-2                        [64, 16, 7, 7]            --\n",
              "│    └─Conv2d: 2-4                       [64, 16, 7, 7]            1,168\n",
              "│    └─ReLU: 2-5                         [64, 16, 7, 7]            --\n",
              "│    └─BatchNorm2d: 2-6                  [64, 16, 7, 7]            32\n",
              "├─Sequential: 1-3                        [64, 32, 4, 4]            --\n",
              "│    └─Conv2d: 2-7                       [64, 32, 4, 4]            4,640\n",
              "│    └─ReLU: 2-8                         [64, 32, 4, 4]            --\n",
              "│    └─BatchNorm2d: 2-9                  [64, 32, 4, 4]            64\n",
              "├─Sequential: 1-4                        [64, 64, 2, 2]            --\n",
              "│    └─Conv2d: 2-10                      [64, 64, 2, 2]            18,496\n",
              "│    └─ReLU: 2-11                        [64, 64, 2, 2]            --\n",
              "│    └─BatchNorm2d: 2-12                 [64, 64, 2, 2]            128\n",
              "├─Sequential: 1-5                        [64, 10, 1, 1]            --\n",
              "│    └─Conv2d: 2-13                      [64, 10, 1, 1]            5,770\n",
              "│    └─BatchNorm2d: 2-14                 [64, 10, 1, 1]            20\n",
              "├─Flatten: 1-6                           [64, 10]                  --\n",
              "==========================================================================================\n",
              "Total params: 30,414\n",
              "Trainable params: 30,414\n",
              "Non-trainable params: 0\n",
              "Total mult-adds (Units.MEGABYTES): 14.54\n",
              "==========================================================================================\n",
              "Input size (MB): 0.20\n",
              "Forward/backward pass size (MB): 3.21\n",
              "Params size (MB): 0.12\n",
              "Estimated Total Size (MB): 3.53\n",
              "=========================================================================================="
            ]
          },
          "metadata": {},
          "execution_count": 8
        }
      ]
    },
    {
      "cell_type": "code",
      "source": [
        "def train_model(model, optimizer, epochs=4, device=\"cpu\"):\n",
        "  model.to(device)\n",
        "  model.train()\n",
        "  for epoch in range(epochs):\n",
        "    train_loss = 0\n",
        "    correct = 0\n",
        "    for xb, yb in DataLoader(mnist_train, batch_size=64, shuffle=True):\n",
        "      optimizer.zero_grad()\n",
        "      xb = xb.to(device)\n",
        "      yb = yb.to(device)\n",
        "      preds = model(xb)\n",
        "      loss = F.cross_entropy(preds, yb)\n",
        "      loss.backward()\n",
        "      optimizer.step()\n",
        "      correct += (preds.argmax(dim=1) == yb).sum().item()\n",
        "      train_loss += loss.item() * xb.size(0)\n",
        "    train_loss /= len(mnist_train)\n",
        "    train_acc = correct / len(mnist_train)\n",
        "    print(f\"Epoch {epoch+1}: Train loss {train_loss:.4f}, Train accuracy {train_acc:.4f}\")\n",
        "\n",
        "\n",
        "\n",
        "def validate_model(model, epochs = 1, device=\"cpu\"):\n",
        "  model.to(device)\n",
        "  model.eval()\n",
        "  for epoch in range(epochs):\n",
        "    correct = 0\n",
        "    val_loss = 0\n",
        "    with torch.no_grad():\n",
        "      for xb, yb in DataLoader(mnist_test, batch_size=64, shuffle=True):\n",
        "        xb = xb.to(device)\n",
        "        yb = yb.to(device)\n",
        "        preds = model(xb)\n",
        "        loss = F.cross_entropy(preds, yb)\n",
        "        val_loss += loss.item() * xb.size(0)\n",
        "        correct += (preds.argmax(dim=1) == yb).sum().item()\n",
        "    val_acc = correct / len(mnist_test)\n",
        "    val_loss /= len(mnist_test)\n",
        "    print(f\"Epoch {epoch+1}: Val loss {val_loss:.4f}, Val accuracy {val_acc:.4f}\")\n",
        "\n",
        "\n",
        "\n",
        "def train_and_validate(model, optimizer, epochs=4, device=\"cpu\"):\n",
        "  model.to(device)\n",
        "  model.train()\n",
        "  for epoch in range(epochs):\n",
        "    train_loss = 0\n",
        "    train_correct = 0\n",
        "    for xb, yb in DataLoader(mnist_train, batch_size=64, shuffle=True):\n",
        "      optimizer.zero_grad()\n",
        "      xb = xb.to(device)\n",
        "      yb = yb.to(device)\n",
        "      preds = model(xb)\n",
        "      loss = F.cross_entropy(preds, yb)\n",
        "      loss.backward()\n",
        "      optimizer.step()\n",
        "      train_correct += (preds.argmax(dim=1) == yb).sum().item()\n",
        "      train_loss += loss.item() * xb.size(0)\n",
        "    train_loss /= len(mnist_train)\n",
        "    train_acc = train_correct / len(mnist_train)\n",
        "    #print(f\"Epoch {epoch+1}: Train loss {train_loss:.4f}, Train accuracy {train_acc:.4f}\")\n",
        "    val_correct = 0\n",
        "    val_loss = 0\n",
        "    with torch.no_grad():\n",
        "      for xb, yb in DataLoader(mnist_test, batch_size=64, shuffle=True):\n",
        "        xb = xb.to(device)\n",
        "        yb = yb.to(device)\n",
        "        preds = model(xb)\n",
        "        loss = F.cross_entropy(preds, yb)\n",
        "        val_loss += loss.item() * xb.size(0)\n",
        "        val_correct += (preds.argmax(dim=1) == yb).sum().item()\n",
        "    val_acc = val_correct / len(mnist_test)\n",
        "    val_loss /= len(mnist_test)\n",
        "    print(f\"Epoch {epoch+1}: Train loss {train_loss:.4f}, Train accuracy {train_acc:.4f} Val loss {val_loss:.4f}, Val accuracy {val_acc:.4f}\")\n",
        "\n",
        "def train_and_validate_adj_lr(model, optimizer, epochs=4, device=\"cpu\"):\n",
        "  model.to(device)\n",
        "  for epoch in range(epochs):\n",
        "    train_loss = 0\n",
        "    train_correct = 0\n",
        "    model.train()\n",
        "    for xb, yb in DataLoader(mnist_train, batch_size=64, shuffle=True):\n",
        "      optimizer.zero_grad()\n",
        "      xb = xb.to(device)\n",
        "      yb = yb.to(device)\n",
        "      preds = model(xb)\n",
        "      loss = F.cross_entropy(preds, yb)\n",
        "      loss.backward()\n",
        "      optimizer.step()\n",
        "      train_correct += (preds.argmax(dim=1) == yb).sum().item()\n",
        "      train_loss += loss.item() * xb.size(0)\n",
        "    train_loss /= len(mnist_train)\n",
        "    train_acc = train_correct / len(mnist_train)\n",
        "    #print(f\"Epoch {epoch+1}: Train loss {train_loss:.4f}, Train accuracy {train_acc:.4f}\")\n",
        "    val_correct = 0\n",
        "    val_loss = 0\n",
        "\n",
        "    model.eval()\n",
        "    with torch.no_grad():\n",
        "      for xb, yb in DataLoader(mnist_test, batch_size=64, shuffle=True):\n",
        "        xb = xb.to(device)\n",
        "        yb = yb.to(device)\n",
        "        preds = model(xb)\n",
        "        loss = F.cross_entropy(preds, yb)\n",
        "        val_loss += loss.item() * xb.size(0)\n",
        "        val_correct += (preds.argmax(dim=1) == yb).sum().item()\n",
        "    val_acc = val_correct / len(mnist_test)\n",
        "    val_loss /= len(mnist_test)\n",
        "    print(f\"Epoch {epoch+1}: Train loss {train_loss:.4f}, Train accuracy {train_acc:.4f} Val loss {val_loss:.4f}, Val accuracy {val_acc:.4f}\")"
      ],
      "metadata": {
        "id": "5Gir9cpD0a1z"
      },
      "execution_count": 9,
      "outputs": []
    },
    {
      "cell_type": "code",
      "source": [
        "#train_model(simple_cnn, torch.optim.Adam(simple_cnn.parameters(), lr=0.01), epochs=5, device=\"cuda\")\n",
        "#validate_model(simple_cnn, epochs=5, device=\"cuda\")\n",
        "train_and_validate(simple_cnn, torch.optim.Adam(simple_cnn.parameters(), lr=0.01), epochs=5, device=\"cpu\")"
      ],
      "metadata": {
        "colab": {
          "base_uri": "https://localhost:8080/"
        },
        "id": "I04Il2tU0e9m",
        "outputId": "b0787d19-c185-4c7f-f8ef-548418fbe48b"
      },
      "execution_count": 10,
      "outputs": [
        {
          "output_type": "stream",
          "name": "stdout",
          "text": [
            "Epoch 1: Train loss 0.2705, Train accuracy 0.9165 Val loss 0.1582, Val accuracy 0.9509\n",
            "Epoch 2: Train loss 0.1237, Train accuracy 0.9618 Val loss 0.1104, Val accuracy 0.9651\n",
            "Epoch 3: Train loss 0.1078, Train accuracy 0.9672 Val loss 0.1212, Val accuracy 0.9626\n",
            "Epoch 4: Train loss 0.1021, Train accuracy 0.9688 Val loss 0.1007, Val accuracy 0.9677\n",
            "Epoch 5: Train loss 0.0937, Train accuracy 0.9711 Val loss 0.0944, Val accuracy 0.9726\n"
          ]
        }
      ]
    },
    {
      "cell_type": "code",
      "source": [
        "train_and_validate(simple_cnn_v2, torch.optim.Adam(simple_cnn_v2.parameters(), lr=0.1), epochs=5, device=\"cuda\")"
      ],
      "metadata": {
        "colab": {
          "base_uri": "https://localhost:8080/",
          "height": 304
        },
        "id": "s3iRtH60UT3u",
        "outputId": "6b3fad59-9e4e-493c-a04d-dc9dd4b89ef0"
      },
      "execution_count": 11,
      "outputs": [
        {
          "output_type": "error",
          "ename": "RuntimeError",
          "evalue": "Found no NVIDIA driver on your system. Please check that you have an NVIDIA GPU and installed a driver from http://www.nvidia.com/Download/index.aspx",
          "traceback": [
            "\u001b[0;31m---------------------------------------------------------------------------\u001b[0m",
            "\u001b[0;31mRuntimeError\u001b[0m                              Traceback (most recent call last)",
            "\u001b[0;32m/tmp/ipython-input-11-156473136.py\u001b[0m in \u001b[0;36m<cell line: 0>\u001b[0;34m()\u001b[0m\n\u001b[0;32m----> 1\u001b[0;31m \u001b[0mtrain_and_validate\u001b[0m\u001b[0;34m(\u001b[0m\u001b[0msimple_cnn_v2\u001b[0m\u001b[0;34m,\u001b[0m \u001b[0mtorch\u001b[0m\u001b[0;34m.\u001b[0m\u001b[0moptim\u001b[0m\u001b[0;34m.\u001b[0m\u001b[0mAdam\u001b[0m\u001b[0;34m(\u001b[0m\u001b[0msimple_cnn_v2\u001b[0m\u001b[0;34m.\u001b[0m\u001b[0mparameters\u001b[0m\u001b[0;34m(\u001b[0m\u001b[0;34m)\u001b[0m\u001b[0;34m,\u001b[0m \u001b[0mlr\u001b[0m\u001b[0;34m=\u001b[0m\u001b[0;36m0.1\u001b[0m\u001b[0;34m)\u001b[0m\u001b[0;34m,\u001b[0m \u001b[0mepochs\u001b[0m\u001b[0;34m=\u001b[0m\u001b[0;36m5\u001b[0m\u001b[0;34m,\u001b[0m \u001b[0mdevice\u001b[0m\u001b[0;34m=\u001b[0m\u001b[0;34m\"cuda\"\u001b[0m\u001b[0;34m)\u001b[0m\u001b[0;34m\u001b[0m\u001b[0;34m\u001b[0m\u001b[0m\n\u001b[0m",
            "\u001b[0;32m/tmp/ipython-input-9-1969782447.py\u001b[0m in \u001b[0;36mtrain_and_validate\u001b[0;34m(model, optimizer, epochs, device)\u001b[0m\n\u001b[1;32m     42\u001b[0m \u001b[0;34m\u001b[0m\u001b[0m\n\u001b[1;32m     43\u001b[0m \u001b[0;32mdef\u001b[0m \u001b[0mtrain_and_validate\u001b[0m\u001b[0;34m(\u001b[0m\u001b[0mmodel\u001b[0m\u001b[0;34m,\u001b[0m \u001b[0moptimizer\u001b[0m\u001b[0;34m,\u001b[0m \u001b[0mepochs\u001b[0m\u001b[0;34m=\u001b[0m\u001b[0;36m4\u001b[0m\u001b[0;34m,\u001b[0m \u001b[0mdevice\u001b[0m\u001b[0;34m=\u001b[0m\u001b[0;34m\"cpu\"\u001b[0m\u001b[0;34m)\u001b[0m\u001b[0;34m:\u001b[0m\u001b[0;34m\u001b[0m\u001b[0;34m\u001b[0m\u001b[0m\n\u001b[0;32m---> 44\u001b[0;31m   \u001b[0mmodel\u001b[0m\u001b[0;34m.\u001b[0m\u001b[0mto\u001b[0m\u001b[0;34m(\u001b[0m\u001b[0mdevice\u001b[0m\u001b[0;34m)\u001b[0m\u001b[0;34m\u001b[0m\u001b[0;34m\u001b[0m\u001b[0m\n\u001b[0m\u001b[1;32m     45\u001b[0m   \u001b[0mmodel\u001b[0m\u001b[0;34m.\u001b[0m\u001b[0mtrain\u001b[0m\u001b[0;34m(\u001b[0m\u001b[0;34m)\u001b[0m\u001b[0;34m\u001b[0m\u001b[0;34m\u001b[0m\u001b[0m\n\u001b[1;32m     46\u001b[0m   \u001b[0;32mfor\u001b[0m \u001b[0mepoch\u001b[0m \u001b[0;32min\u001b[0m \u001b[0mrange\u001b[0m\u001b[0;34m(\u001b[0m\u001b[0mepochs\u001b[0m\u001b[0;34m)\u001b[0m\u001b[0;34m:\u001b[0m\u001b[0;34m\u001b[0m\u001b[0;34m\u001b[0m\u001b[0m\n",
            "\u001b[0;32m/usr/local/lib/python3.11/dist-packages/torch/nn/modules/module.py\u001b[0m in \u001b[0;36mto\u001b[0;34m(self, *args, **kwargs)\u001b[0m\n\u001b[1;32m   1341\u001b[0m                     \u001b[0;32mraise\u001b[0m\u001b[0;34m\u001b[0m\u001b[0;34m\u001b[0m\u001b[0m\n\u001b[1;32m   1342\u001b[0m \u001b[0;34m\u001b[0m\u001b[0m\n\u001b[0;32m-> 1343\u001b[0;31m         \u001b[0;32mreturn\u001b[0m \u001b[0mself\u001b[0m\u001b[0;34m.\u001b[0m\u001b[0m_apply\u001b[0m\u001b[0;34m(\u001b[0m\u001b[0mconvert\u001b[0m\u001b[0;34m)\u001b[0m\u001b[0;34m\u001b[0m\u001b[0;34m\u001b[0m\u001b[0m\n\u001b[0m\u001b[1;32m   1344\u001b[0m \u001b[0;34m\u001b[0m\u001b[0m\n\u001b[1;32m   1345\u001b[0m     def register_full_backward_pre_hook(\n",
            "\u001b[0;32m/usr/local/lib/python3.11/dist-packages/torch/nn/modules/module.py\u001b[0m in \u001b[0;36m_apply\u001b[0;34m(self, fn, recurse)\u001b[0m\n\u001b[1;32m    901\u001b[0m         \u001b[0;32mif\u001b[0m \u001b[0mrecurse\u001b[0m\u001b[0;34m:\u001b[0m\u001b[0;34m\u001b[0m\u001b[0;34m\u001b[0m\u001b[0m\n\u001b[1;32m    902\u001b[0m             \u001b[0;32mfor\u001b[0m \u001b[0mmodule\u001b[0m \u001b[0;32min\u001b[0m \u001b[0mself\u001b[0m\u001b[0;34m.\u001b[0m\u001b[0mchildren\u001b[0m\u001b[0;34m(\u001b[0m\u001b[0;34m)\u001b[0m\u001b[0;34m:\u001b[0m\u001b[0;34m\u001b[0m\u001b[0;34m\u001b[0m\u001b[0m\n\u001b[0;32m--> 903\u001b[0;31m                 \u001b[0mmodule\u001b[0m\u001b[0;34m.\u001b[0m\u001b[0m_apply\u001b[0m\u001b[0;34m(\u001b[0m\u001b[0mfn\u001b[0m\u001b[0;34m)\u001b[0m\u001b[0;34m\u001b[0m\u001b[0;34m\u001b[0m\u001b[0m\n\u001b[0m\u001b[1;32m    904\u001b[0m \u001b[0;34m\u001b[0m\u001b[0m\n\u001b[1;32m    905\u001b[0m         \u001b[0;32mdef\u001b[0m \u001b[0mcompute_should_use_set_data\u001b[0m\u001b[0;34m(\u001b[0m\u001b[0mtensor\u001b[0m\u001b[0;34m,\u001b[0m \u001b[0mtensor_applied\u001b[0m\u001b[0;34m)\u001b[0m\u001b[0;34m:\u001b[0m\u001b[0;34m\u001b[0m\u001b[0;34m\u001b[0m\u001b[0m\n",
            "\u001b[0;32m/usr/local/lib/python3.11/dist-packages/torch/nn/modules/module.py\u001b[0m in \u001b[0;36m_apply\u001b[0;34m(self, fn, recurse)\u001b[0m\n\u001b[1;32m    901\u001b[0m         \u001b[0;32mif\u001b[0m \u001b[0mrecurse\u001b[0m\u001b[0;34m:\u001b[0m\u001b[0;34m\u001b[0m\u001b[0;34m\u001b[0m\u001b[0m\n\u001b[1;32m    902\u001b[0m             \u001b[0;32mfor\u001b[0m \u001b[0mmodule\u001b[0m \u001b[0;32min\u001b[0m \u001b[0mself\u001b[0m\u001b[0;34m.\u001b[0m\u001b[0mchildren\u001b[0m\u001b[0;34m(\u001b[0m\u001b[0;34m)\u001b[0m\u001b[0;34m:\u001b[0m\u001b[0;34m\u001b[0m\u001b[0;34m\u001b[0m\u001b[0m\n\u001b[0;32m--> 903\u001b[0;31m                 \u001b[0mmodule\u001b[0m\u001b[0;34m.\u001b[0m\u001b[0m_apply\u001b[0m\u001b[0;34m(\u001b[0m\u001b[0mfn\u001b[0m\u001b[0;34m)\u001b[0m\u001b[0;34m\u001b[0m\u001b[0;34m\u001b[0m\u001b[0m\n\u001b[0m\u001b[1;32m    904\u001b[0m \u001b[0;34m\u001b[0m\u001b[0m\n\u001b[1;32m    905\u001b[0m         \u001b[0;32mdef\u001b[0m \u001b[0mcompute_should_use_set_data\u001b[0m\u001b[0;34m(\u001b[0m\u001b[0mtensor\u001b[0m\u001b[0;34m,\u001b[0m \u001b[0mtensor_applied\u001b[0m\u001b[0;34m)\u001b[0m\u001b[0;34m:\u001b[0m\u001b[0;34m\u001b[0m\u001b[0;34m\u001b[0m\u001b[0m\n",
            "\u001b[0;32m/usr/local/lib/python3.11/dist-packages/torch/nn/modules/module.py\u001b[0m in \u001b[0;36m_apply\u001b[0;34m(self, fn, recurse)\u001b[0m\n\u001b[1;32m    928\u001b[0m             \u001b[0;31m# `with torch.no_grad():`\u001b[0m\u001b[0;34m\u001b[0m\u001b[0;34m\u001b[0m\u001b[0m\n\u001b[1;32m    929\u001b[0m             \u001b[0;32mwith\u001b[0m \u001b[0mtorch\u001b[0m\u001b[0;34m.\u001b[0m\u001b[0mno_grad\u001b[0m\u001b[0;34m(\u001b[0m\u001b[0;34m)\u001b[0m\u001b[0;34m:\u001b[0m\u001b[0;34m\u001b[0m\u001b[0;34m\u001b[0m\u001b[0m\n\u001b[0;32m--> 930\u001b[0;31m                 \u001b[0mparam_applied\u001b[0m \u001b[0;34m=\u001b[0m \u001b[0mfn\u001b[0m\u001b[0;34m(\u001b[0m\u001b[0mparam\u001b[0m\u001b[0;34m)\u001b[0m\u001b[0;34m\u001b[0m\u001b[0;34m\u001b[0m\u001b[0m\n\u001b[0m\u001b[1;32m    931\u001b[0m             \u001b[0mp_should_use_set_data\u001b[0m \u001b[0;34m=\u001b[0m \u001b[0mcompute_should_use_set_data\u001b[0m\u001b[0;34m(\u001b[0m\u001b[0mparam\u001b[0m\u001b[0;34m,\u001b[0m \u001b[0mparam_applied\u001b[0m\u001b[0;34m)\u001b[0m\u001b[0;34m\u001b[0m\u001b[0;34m\u001b[0m\u001b[0m\n\u001b[1;32m    932\u001b[0m \u001b[0;34m\u001b[0m\u001b[0m\n",
            "\u001b[0;32m/usr/local/lib/python3.11/dist-packages/torch/nn/modules/module.py\u001b[0m in \u001b[0;36mconvert\u001b[0;34m(t)\u001b[0m\n\u001b[1;32m   1327\u001b[0m                         \u001b[0mmemory_format\u001b[0m\u001b[0;34m=\u001b[0m\u001b[0mconvert_to_format\u001b[0m\u001b[0;34m,\u001b[0m\u001b[0;34m\u001b[0m\u001b[0;34m\u001b[0m\u001b[0m\n\u001b[1;32m   1328\u001b[0m                     )\n\u001b[0;32m-> 1329\u001b[0;31m                 return t.to(\n\u001b[0m\u001b[1;32m   1330\u001b[0m                     \u001b[0mdevice\u001b[0m\u001b[0;34m,\u001b[0m\u001b[0;34m\u001b[0m\u001b[0;34m\u001b[0m\u001b[0m\n\u001b[1;32m   1331\u001b[0m                     \u001b[0mdtype\u001b[0m \u001b[0;32mif\u001b[0m \u001b[0mt\u001b[0m\u001b[0;34m.\u001b[0m\u001b[0mis_floating_point\u001b[0m\u001b[0;34m(\u001b[0m\u001b[0;34m)\u001b[0m \u001b[0;32mor\u001b[0m \u001b[0mt\u001b[0m\u001b[0;34m.\u001b[0m\u001b[0mis_complex\u001b[0m\u001b[0;34m(\u001b[0m\u001b[0;34m)\u001b[0m \u001b[0;32melse\u001b[0m \u001b[0;32mNone\u001b[0m\u001b[0;34m,\u001b[0m\u001b[0;34m\u001b[0m\u001b[0;34m\u001b[0m\u001b[0m\n",
            "\u001b[0;32m/usr/local/lib/python3.11/dist-packages/torch/cuda/__init__.py\u001b[0m in \u001b[0;36m_lazy_init\u001b[0;34m()\u001b[0m\n\u001b[1;32m    317\u001b[0m         \u001b[0;32mif\u001b[0m \u001b[0;34m\"CUDA_MODULE_LOADING\"\u001b[0m \u001b[0;32mnot\u001b[0m \u001b[0;32min\u001b[0m \u001b[0mos\u001b[0m\u001b[0;34m.\u001b[0m\u001b[0menviron\u001b[0m\u001b[0;34m:\u001b[0m\u001b[0;34m\u001b[0m\u001b[0;34m\u001b[0m\u001b[0m\n\u001b[1;32m    318\u001b[0m             \u001b[0mos\u001b[0m\u001b[0;34m.\u001b[0m\u001b[0menviron\u001b[0m\u001b[0;34m[\u001b[0m\u001b[0;34m\"CUDA_MODULE_LOADING\"\u001b[0m\u001b[0;34m]\u001b[0m \u001b[0;34m=\u001b[0m \u001b[0;34m\"LAZY\"\u001b[0m\u001b[0;34m\u001b[0m\u001b[0;34m\u001b[0m\u001b[0m\n\u001b[0;32m--> 319\u001b[0;31m         \u001b[0mtorch\u001b[0m\u001b[0;34m.\u001b[0m\u001b[0m_C\u001b[0m\u001b[0;34m.\u001b[0m\u001b[0m_cuda_init\u001b[0m\u001b[0;34m(\u001b[0m\u001b[0;34m)\u001b[0m\u001b[0;34m\u001b[0m\u001b[0;34m\u001b[0m\u001b[0m\n\u001b[0m\u001b[1;32m    320\u001b[0m         \u001b[0;31m# Some of the queued calls may reentrantly call _lazy_init();\u001b[0m\u001b[0;34m\u001b[0m\u001b[0;34m\u001b[0m\u001b[0m\n\u001b[1;32m    321\u001b[0m         \u001b[0;31m# we need to just return without initializing in that case.\u001b[0m\u001b[0;34m\u001b[0m\u001b[0;34m\u001b[0m\u001b[0m\n",
            "\u001b[0;31mRuntimeError\u001b[0m: Found no NVIDIA driver on your system. Please check that you have an NVIDIA GPU and installed a driver from http://www.nvidia.com/Download/index.aspx"
          ]
        }
      ]
    },
    {
      "cell_type": "code",
      "source": [
        "train_and_validate(simple_cnn_v3, torch.optim.Adam(simple_cnn_v3.parameters(), lr=0.1), epochs=5, device=\"cuda\")"
      ],
      "metadata": {
        "id": "3Vv1M9eUYS8N"
      },
      "execution_count": null,
      "outputs": []
    },
    {
      "cell_type": "code",
      "source": [
        "# Test the model with real images\n",
        "xb, yb = next(iter(dls))\n",
        "# xb = xb.to(\"cuda\")\n",
        "num_images = 5\n",
        "model = simple_cnn;\n",
        "model.eval();\n",
        "with torch.no_grad():\n",
        "  for i in range(num_images):\n",
        "    print(\"Image:\")\n",
        "    show_image(xb[i])\n",
        "    plt.show()\n",
        "    preds = model(xb[i].unsqueeze(0)) # CNN takes in [batch_size, 1, 28, 28]\n",
        "    #print(f\"Prediction: {preds.argmax()} \\n List of Predictions: {preds}\")\n",
        "    if (preds.argmax(1).item() != yb[i].item()):\n",
        "      print(\"Wrong prediction\")\n",
        "    print(f\"Prediction: {preds.argmax(1).item()} \\n List of Predictions: {preds}\")\n",
        "    print(xb[i].unsqueeze(0).shape)"
      ],
      "metadata": {
        "colab": {
          "base_uri": "https://localhost:8080/",
          "height": 936
        },
        "id": "F1ShEEU9F_Nj",
        "outputId": "6d73bd69-5eab-4542-8700-0b870a22f753"
      },
      "execution_count": 26,
      "outputs": [
        {
          "output_type": "stream",
          "name": "stdout",
          "text": [
            "Image:\n"
          ]
        },
        {
          "output_type": "display_data",
          "data": {
            "text/plain": [
              "<Figure size 100x100 with 1 Axes>"
            ],
            "image/png": "[encoded data removed]"
          },
          "metadata": {}
        },
        {
          "output_type": "stream",
          "name": "stdout",
          "text": [
            "Prediction: 1 \n",
            " List of Predictions: tensor([[-15.9500,  10.9699,  -1.9734, -12.9779,  -5.0234,  -8.1025,  -9.1455,\n",
            "          -6.3812,  -4.5376,  -7.2061]])\n",
            "torch.Size([1, 1, 28, 28])\n",
            "Image:\n"
          ]
        },
        {
          "output_type": "display_data",
          "data": {
            "text/plain": [
              "<Figure size 100x100 with 1 Axes>"
            ],
            "image/png": "[encoded data removed]"
          },
          "metadata": {}
        },
        {
          "output_type": "stream",
          "name": "stdout",
          "text": [
            "Prediction: 9 \n",
            " List of Predictions: tensor([[-11.5649,  -1.5364,  -6.8251,  -8.3353,   2.6755,  -9.0984, -14.0915,\n",
            "          -0.5124,  -2.2745,   6.2874]])\n",
            "torch.Size([1, 1, 28, 28])\n",
            "Image:\n"
          ]
        },
        {
          "output_type": "display_data",
          "data": {
            "text/plain": [
              "<Figure size 100x100 with 1 Axes>"
            ],
            "image/png": "[encoded data removed]"
          },
          "metadata": {}
        },
        {
          "output_type": "stream",
          "name": "stdout",
          "text": [
            "Prediction: 4 \n",
            " List of Predictions: tensor([[-11.2141,  -7.4833,  -4.7596, -12.3547,  11.8452, -15.1885,  -8.3299,\n",
            "          -1.6501,  -5.9288,  -3.2644]])\n",
            "torch.Size([1, 1, 28, 28])\n",
            "Image:\n"
          ]
        },
        {
          "output_type": "display_data",
          "data": {
            "text/plain": [
              "<Figure size 100x100 with 1 Axes>"
            ],
            "image/png": "[encoded data removed]"
          },
          "metadata": {}
        },
        {
          "output_type": "stream",
          "name": "stdout",
          "text": [
            "Prediction: 4 \n",
            " List of Predictions: tensor([[-14.2838,  -7.6690,  -9.0159, -13.2484,  10.7846, -11.1752,  -2.7107,\n",
            "           1.8198,  -6.4318,   1.2202]])\n",
            "torch.Size([1, 1, 28, 28])\n",
            "Image:\n"
          ]
        },
        {
          "output_type": "display_data",
          "data": {
            "text/plain": [
              "<Figure size 100x100 with 1 Axes>"
            ],
            "image/png": "[encoded data removed]"
          },
          "metadata": {}
        },
        {
          "output_type": "stream",
          "name": "stdout",
          "text": [
            "Prediction: 8 \n",
            " List of Predictions: tensor([[ -4.2368,  -5.6468,  -3.3359,  -2.2847,  -5.6217,  -6.1196, -11.4231,\n",
            "         -11.5956,   9.8602,  -2.1952]])\n",
            "torch.Size([1, 1, 28, 28])\n"
          ]
        }
      ]
    },
    {
      "cell_type": "code",
      "source": [
        "def normalize_0_1(tensor):\n",
        "    t_min = tensor.min()\n",
        "    t_max = tensor.max()\n",
        "    return (tensor - t_min) / (t_max - t_min + 1e-8)  # epsilon avoids div by zero\n",
        "# for name, param in simple_cnn.named_parameters():\n",
        "#     print(f\"{name}:\\n{param.data}\\n\")\n",
        "simple_cnn_params = list(simple_cnn.parameters());\n",
        "len(simple_cnn_params)\n",
        "layer1_filters = [normalize_0_1(simple_cnn_params[0][i].detach()) for i in range(simple_cnn_params[0].shape[0])]\n",
        "# show_images(layer1_filters, nrows=2, ncols=3)\n",
        "# w = simple_cnn_params[0][0][0]\n",
        "# show_images(w.detach().numpy(), cmap=\"gray\")\n",
        "layer2_filters = [normalize_0_1(simple_cnn_params[2][i].detach()) for i in range(simple_cnn_params[2].shape[0])]\n",
        "show_images(layer2_filters, nrows=4, ncols=4)\n",
        "# show_images(layer2_filters, nrows=2, ncols=3)"
      ],
      "metadata": {
        "colab": {
          "base_uri": "https://localhost:8080/",
          "height": 984
        },
        "id": "stSovyAyw7HX",
        "outputId": "e9c18206-f4e8-4391-d3d3-d59e8f5e09d0"
      },
      "execution_count": 75,
      "outputs": [
        {
          "output_type": "display_data",
          "data": {
            "text/plain": [
              "<Figure size 1200x1200 with 16 Axes>"
            ],
            "image/png": "[encoded data removed]"
          },
          "metadata": {}
        }
      ]
    }
  ]
}