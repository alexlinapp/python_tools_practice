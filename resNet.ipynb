{
  "nbformat": 4,
  "nbformat_minor": 0,
  "metadata": {
    "colab": {
      "provenance": [],
      "gpuType": "T4",
      "authorship_tag": "ABX9TyP7LTC6tMZEaUDBFxnEvkHi",
      "include_colab_link": true
    },
    "kernelspec": {
      "name": "python3",
      "display_name": "Python 3"
    },
    "language_info": {
      "name": "python"
    },
    "accelerator": "GPU"
  },
  "cells": [
    {
      "cell_type": "markdown",
      "metadata": {
        "id": "view-in-github",
        "colab_type": "text"
      },
      "source": [
        "<a href=\"https://colab.research.google.com/github/alexlinapp/python_tools_practice/blob/main/resNet.ipynb\" target=\"_parent\"><img src=\"https://colab.research.google.com/assets/colab-badge.svg\" alt=\"Open In Colab\"/></a>"
      ]
    },
    {
      "cell_type": "code",
      "execution_count": 1,
      "metadata": {
        "colab": {
          "base_uri": "https://localhost:8080/"
        },
        "id": "SY86B1LZlj4o",
        "outputId": "e2782b20-00c7-4006-9005-f3644f040b10"
      },
      "outputs": [
        {
          "output_type": "stream",
          "name": "stdout",
          "text": [
            "Collecting torchinfo\n",
            "  Downloading torchinfo-1.8.0-py3-none-any.whl.metadata (21 kB)\n",
            "Downloading torchinfo-1.8.0-py3-none-any.whl (23 kB)\n",
            "Installing collected packages: torchinfo\n",
            "Successfully installed torchinfo-1.8.0\n"
          ]
        }
      ],
      "source": [
        "!pip install torchinfo"
      ]
    },
    {
      "cell_type": "code",
      "source": [
        "import torch\n",
        "import torch.nn as nn\n",
        "from torchvision import datasets, transforms\n",
        "from torch.utils.data import DataLoader\n",
        "from fastai.vision.all import *\n",
        "import torch.nn.functional as F\n",
        "from torchinfo import summary\n",
        "print(torch.__version__)"
      ],
      "metadata": {
        "colab": {
          "base_uri": "https://localhost:8080/"
        },
        "id": "bi1KQrCvmx3t",
        "outputId": "05128e8e-44ac-4b50-f9cc-2be92633a74c"
      },
      "execution_count": 2,
      "outputs": [
        {
          "output_type": "stream",
          "name": "stdout",
          "text": [
            "2.6.0+cu124\n"
          ]
        }
      ]
    },
    {
      "cell_type": "code",
      "source": [
        "path = untar_data(URLs.IMAGENETTE)"
      ],
      "metadata": {
        "colab": {
          "base_uri": "https://localhost:8080/",
          "height": 37
        },
        "id": "Hh8NkQytm6NV",
        "outputId": "a83ec3ef-bd73-47d6-9aa7-c61f1cc5fac3"
      },
      "execution_count": 3,
      "outputs": [
        {
          "output_type": "display_data",
          "data": {
            "text/plain": [
              "<IPython.core.display.HTML object>"
            ],
            "text/html": [
              "\n",
              "<style>\n",
              "    /* Turns off some styling */\n",
              "    progress {\n",
              "        /* gets rid of default border in Firefox and Opera. */\n",
              "        border: none;\n",
              "        /* Needs to be in here for Safari polyfill so background images work as expected. */\n",
              "        background-size: auto;\n",
              "    }\n",
              "    progress:not([value]), progress:not([value])::-webkit-progress-bar {\n",
              "        background: repeating-linear-gradient(45deg, #7e7e7e, #7e7e7e 10px, #5c5c5c 10px, #5c5c5c 20px);\n",
              "    }\n",
              "    .progress-bar-interrupted, .progress-bar-interrupted::-webkit-progress-bar {\n",
              "        background: #F44336;\n",
              "    }\n",
              "</style>\n"
            ]
          },
          "metadata": {}
        },
        {
          "output_type": "display_data",
          "data": {
            "text/plain": [
              "<IPython.core.display.HTML object>"
            ],
            "text/html": [
              "\n",
              "    <div>\n",
              "      <progress value='1557168128' class='' max='1557161267' style='width:300px; height:20px; vertical-align: middle;'></progress>\n",
              "      100.00% [1557168128/1557161267 00:30&lt;00:00]\n",
              "    </div>\n",
              "    "
            ]
          },
          "metadata": {}
        }
      ]
    },
    {
      "cell_type": "code",
      "source": [
        "dblock = DataBlock(blocks=(ImageBlock(), CategoryBlock()),\n",
        "                   get_items=get_image_files,\n",
        "                   get_y=parent_label,\n",
        "                   item_tfms=Resize(460),\n",
        "                   batch_tfms=aug_transforms(size=224, min_scale=0.75))\n",
        "dls = dblock.dataloaders(path, bs=64)"
      ],
      "metadata": {
        "id": "Px2htAun7B5H"
      },
      "execution_count": 4,
      "outputs": []
    },
    {
      "cell_type": "code",
      "source": [
        "model = xresnet50(n_out=dls.c)\n",
        "learn = Learner(dls, model, loss_func=CrossEntropyLossFlat(), metrics=accuracy)\n",
        "learn.fit_one_cycle(5, 3e-3)"
      ],
      "metadata": {
        "colab": {
          "base_uri": "https://localhost:8080/",
          "height": 95
        },
        "collapsed": true,
        "id": "1sRpI6ox7P1U",
        "outputId": "71baf30b-b5f7-4476-b8bb-de0570f27081"
      },
      "execution_count": null,
      "outputs": [
        {
          "output_type": "display_data",
          "data": {
            "text/plain": [
              "<IPython.core.display.HTML object>"
            ],
            "text/html": [
              "\n",
              "<style>\n",
              "    /* Turns off some styling */\n",
              "    progress {\n",
              "        /* gets rid of default border in Firefox and Opera. */\n",
              "        border: none;\n",
              "        /* Needs to be in here for Safari polyfill so background images work as expected. */\n",
              "        background-size: auto;\n",
              "    }\n",
              "    progress:not([value]), progress:not([value])::-webkit-progress-bar {\n",
              "        background: repeating-linear-gradient(45deg, #7e7e7e, #7e7e7e 10px, #5c5c5c 10px, #5c5c5c 20px);\n",
              "    }\n",
              "    .progress-bar-interrupted, .progress-bar-interrupted::-webkit-progress-bar {\n",
              "        background: #F44336;\n",
              "    }\n",
              "</style>\n"
            ]
          },
          "metadata": {}
        },
        {
          "output_type": "display_data",
          "data": {
            "text/plain": [
              "<IPython.core.display.HTML object>"
            ],
            "text/html": [
              "\n",
              "    <div>\n",
              "      <progress value='0' class='' max='5' style='width:300px; height:20px; vertical-align: middle;'></progress>\n",
              "      0.00% [0/5 00:00&lt;?]\n",
              "    </div>\n",
              "    \n",
              "<table border=\"1\" class=\"dataframe\">\n",
              "  <thead>\n",
              "    <tr style=\"text-align: left;\">\n",
              "      <th>epoch</th>\n",
              "      <th>train_loss</th>\n",
              "      <th>valid_loss</th>\n",
              "      <th>accuracy</th>\n",
              "      <th>time</th>\n",
              "    </tr>\n",
              "  </thead>\n",
              "  <tbody>\n",
              "  </tbody>\n",
              "</table><p>\n",
              "\n",
              "    <div>\n",
              "      <progress value='0' class='' max='167' style='width:300px; height:20px; vertical-align: middle;'></progress>\n",
              "      0.00% [0/167 00:00&lt;?]\n",
              "    </div>\n",
              "    "
            ]
          },
          "metadata": {}
        }
      ]
    },
    {
      "cell_type": "code",
      "source": [
        "def get_dls(bs, size, shuffle=True):\n",
        "    dblock = DataBlock(blocks=(ImageBlock, CategoryBlock),\n",
        "                   get_items=get_image_files,\n",
        "                   get_y=parent_label,\n",
        "                   item_tfms=Resize(460),\n",
        "                   batch_tfms=[*aug_transforms(size=size, min_scale=0.75),\n",
        "                               Normalize.from_stats(*imagenet_stats)])\n",
        "    return dblock.dataloaders(path, bs=bs, shuffle=shuffle)\n",
        "def get_data(url, presize, resize, bs=64):\n",
        "    path = untar_data(url)\n",
        "    return DataBlock(\n",
        "        blocks=(ImageBlock, CategoryBlock), get_items=get_image_files,\n",
        "        splitter=GrandparentSplitter(valid_name='val'),\n",
        "        get_y=parent_label, item_tfms=Resize(presize),\n",
        "        batch_tfms=[*aug_transforms(min_scale=0.5, size=resize),\n",
        "                    Normalize.from_stats(*imagenet_stats)],\n",
        "    ).dataloaders(path, bs=bs)"
      ],
      "metadata": {
        "id": "g6R-vmni9IQV"
      },
      "execution_count": 5,
      "outputs": []
    },
    {
      "cell_type": "code",
      "source": [
        "dls = get_dls(64, 224, shuffle=True)\n",
        "len(dls.one_batch()), dls.one_batch()[0].shape\n",
        "#show_image(dls.one_batch()[0][0])\n",
        "xb, yb = dls.one_batch()"
      ],
      "metadata": {
        "collapsed": true,
        "id": "iXKJKtWp9LOQ"
      },
      "execution_count": 6,
      "outputs": []
    },
    {
      "cell_type": "code",
      "source": [
        "xb.mean(dim=[0,2,3]), xb.std(dim=[0,2,3]), yb\n",
        "show_image(xb[8]), show_image(xb[12]), yb"
      ],
      "metadata": {
        "collapsed": true,
        "id": "KejO01nA_yRn"
      },
      "execution_count": null,
      "outputs": []
    },
    {
      "cell_type": "code",
      "source": [
        "dls = get_data(URLs.IMAGENETTE_320, 160, 224, 128)\n",
        "xb, yb = dls.one_batch()\n",
        "xb.shape, yb.shape, type(dls), type(dls.train)"
      ],
      "metadata": {
        "colab": {
          "base_uri": "https://localhost:8080/",
          "height": 106
        },
        "id": "abpthboBAZPm",
        "outputId": "9a0ee51c-35a6-4200-dfdb-523d5e26918d"
      },
      "execution_count": 7,
      "outputs": [
        {
          "output_type": "display_data",
          "data": {
            "text/plain": [
              "<IPython.core.display.HTML object>"
            ],
            "text/html": [
              "\n",
              "<style>\n",
              "    /* Turns off some styling */\n",
              "    progress {\n",
              "        /* gets rid of default border in Firefox and Opera. */\n",
              "        border: none;\n",
              "        /* Needs to be in here for Safari polyfill so background images work as expected. */\n",
              "        background-size: auto;\n",
              "    }\n",
              "    progress:not([value]), progress:not([value])::-webkit-progress-bar {\n",
              "        background: repeating-linear-gradient(45deg, #7e7e7e, #7e7e7e 10px, #5c5c5c 10px, #5c5c5c 20px);\n",
              "    }\n",
              "    .progress-bar-interrupted, .progress-bar-interrupted::-webkit-progress-bar {\n",
              "        background: #F44336;\n",
              "    }\n",
              "</style>\n"
            ]
          },
          "metadata": {}
        },
        {
          "output_type": "display_data",
          "data": {
            "text/plain": [
              "<IPython.core.display.HTML object>"
            ],
            "text/html": [
              "\n",
              "    <div>\n",
              "      <progress value='341663744' class='' max='341663724' style='width:300px; height:20px; vertical-align: middle;'></progress>\n",
              "      100.00% [341663744/341663724 00:11&lt;00:00]\n",
              "    </div>\n",
              "    "
            ]
          },
          "metadata": {}
        },
        {
          "output_type": "execute_result",
          "data": {
            "text/plain": [
              "(torch.Size([128, 3, 224, 224]),\n",
              " torch.Size([128]),\n",
              " fastai.data.core.DataLoaders,\n",
              " fastai.data.core.TfmdDL)"
            ]
          },
          "metadata": {},
          "execution_count": 7
        }
      ]
    },
    {
      "cell_type": "code",
      "source": [
        "def conv_layer(in_channels, out_channels, act_cls = nn.ReLU(), ks=3, stride=2, padding=0):\n",
        "  layers = [nn.Conv2d(in_channels, out_channels, kernel_size=ks, stride=stride, padding=padding),\n",
        "      nn.BatchNorm2d(out_channels)]\n",
        "  if act_cls is not None: layers.append(act_cls)\n",
        "  return nn.Sequential(*layers)\n",
        "\n",
        "def bottleneck_block1(in_channels, out_channels, ks=3, act_cls = nn.ReLU(), stride=1):\n",
        "  return nn.Sequential(conv_layer(in_channels, out_channels=out_channels//4, act_cls=act_cls, ks=1, stride=1),\n",
        "                       conv_layer(in_channels=out_channels//4, out_channels=out_channels//4, act_cls=act_cls, ks=ks, stride=stride, padding=ks//2),\n",
        "                       conv_layer(in_channels=out_channels//4, out_channels=out_channels, act_cls=None, ks=1, stride=1))\n",
        "\n",
        "class ResBlock(nn.Module):\n",
        "  def __init__(self, in_channels, out_channels, ks=3, stride=2):\n",
        "    super().__init__()\n",
        "    self.conv_block1 = nn.Sequential(conv_layer(in_channels, out_channels, ks=ks, stride=stride, padding=ks//2),\n",
        "                                     conv_layer(out_channels, out_channels, act_cls = None, ks=ks, stride=1, padding=ks//2))\n",
        "    self.id_conv = nn.Identity() if in_channels==out_channels and stride == 1 else conv_layer(in_channels, out_channels, act_cls = None, ks=1, stride=stride)\n",
        "  def forward(self, x):\n",
        "    result = self.conv_block1(x)\n",
        "    identity = self.id_conv(x)\n",
        "    return F.relu(result + identity)\n",
        "\n",
        "def ResBlock2(in_channels, out_channels, ks=3, stride=2):\n",
        "  return nn.Sequential(ResBlock(in_channels, out_channels, ks=ks, stride=stride),\n",
        "                       ResBlock(out_channels, out_channels, ks=ks, stride=1))\n",
        "\n",
        "class ResBlock3(nn.Module):\n",
        "  def __init__(self, in_channels, out_channels, ks=3, stride=2):\n",
        "    super().__init__()\n",
        "    self.conv_block1 = bottleneck_block1(in_channels, out_channels, ks=ks, act_cls = nn.ReLU(), stride=stride)\n",
        "    self.id_conv = nn.Identity() if in_channels==out_channels and stride==1 else conv_layer(in_channels, out_channels, act_cls = None, ks=1, stride=stride)\n",
        "  def forward(self, x):\n",
        "    return F.relu(self.conv_block1(x) + self.id_conv(x))\n",
        "\n",
        "\n",
        "class ResNet5(nn.Module):\n",
        "  def __init__(self, in_channels=3, num_classes=10):\n",
        "    super().__init__()\n",
        "\n",
        "\n",
        "\n",
        "class ResNet(nn.Module):\n",
        "  def __init__(self, in_channels=3, num_classes=10):\n",
        "    super().__init__()\n",
        "    self.block1 = nn.Sequential(conv_layer(in_channels, 16),\n",
        "                                conv_layer(16, 32),\n",
        "                                conv_layer(32, 64),\n",
        "                                conv_layer(64, 128),\n",
        "                                conv_layer(128, 256))\n",
        "\n",
        "    # self.layer1 = nn.Conv2d(in_channels=in_channels, out_channels=16, kernel_size=(3, 3), stride=2)\n",
        "    # self.relu = nn.ReLU()\n",
        "    # self.layer2 = nn.Conv2d(in_channels=16, out_channels=32, kernel_size=(3, 3), stride=2)\n",
        "    # self.layer3 = nn.Conv2d(in_channels=32, out_channels=64, kernel_size=(3, 3), stride=2)\n",
        "    # self.layer4 = nn.Conv2d(in_channels=64, out_channels=128, kernel_size=(3, 3), stride=2)\n",
        "    # self.layer5 = nn.Conv2d(in_channels=128, out_channels=256, kernel_size=(3, 3), stride=2)\n",
        "    #self.layer6 = nn.Conv2d(in_channels=256, out_channels=512, kernel_size=(3, 3), stride=2)\n",
        "    self.pool = nn.AdaptiveAvgPool2d(1)\n",
        "    self.lastlayer = nn.Linear(256, num_classes)\n",
        "\n",
        "  def forward(self, x):\n",
        "    # x = self.layer1(x)\n",
        "    # x = self.relu(x)\n",
        "    # x = self.layer2(x)\n",
        "    # x = self.relu(x)\n",
        "    # x = self.layer3(x)\n",
        "    # x = self.relu(x)\n",
        "    # x = self.layer4(x)\n",
        "    # x = self.relu(x)\n",
        "    # x = self.layer5(x)\n",
        "    # x = self.relu(x)\n",
        "    x = self.block1(x)\n",
        "    x = self.pool(x)\n",
        "    x = x.view(x.size(0), -1)\n",
        "    return self.lastlayer(x)\n",
        "\n",
        "class ResNet2(nn.Module):\n",
        "  def __init__(self, in_channels=3, num_classes=10):\n",
        "    super().__init__()\n",
        "    self.block1 = ResBlock(in_channels, 16)\n",
        "    self.block2 = ResBlock(16, 32)\n",
        "    self.block3 = ResBlock(32, 64)\n",
        "    self.block4 = ResBlock(64, 128, stride=1)\n",
        "    self.block5 = ResBlock(128, 256, stride=1)\n",
        "    self.pool = nn.AdaptiveAvgPool2d(1)\n",
        "    self.lastlayer = nn.Linear(256, num_classes)\n",
        "  def forward(self, x):\n",
        "    x = self.block1(x)\n",
        "    x = self.block2(x)\n",
        "    x = self.block3(x)\n",
        "    x = self.block4(x)\n",
        "    x = self.block5(x)\n",
        "    x = self.pool(x)\n",
        "    x = x.view(x.size(0), -1)\n",
        "    return self.lastlayer(x)\n",
        "\n",
        "class ResNet3(nn.Module):\n",
        "  def __init__(self, in_channels=3, num_classes=10):\n",
        "    super().__init__()\n",
        "    self.block1 = ResBlock2(in_channels, 16)\n",
        "    self.block2 = ResBlock2(16, 32)\n",
        "    self.block3 = ResBlock2(32, 64)\n",
        "    self.block4 = ResBlock2(64, 128)\n",
        "    self.block5 = ResBlock2(128, 256)\n",
        "    self.pool = nn.AdaptiveAvgPool2d(1)\n",
        "    self.lastlayer = nn.Linear(256, num_classes)\n",
        "  def forward(self, x):\n",
        "    x = self.block1(x)\n",
        "    x = self.block2(x)\n",
        "    x = self.block3(x)\n",
        "    x = self.block4(x)\n",
        "    x = self.block5(x)\n",
        "    x = self.pool(x)\n",
        "    x = x.view(x.size(0), -1)\n",
        "    return self.lastlayer(x)\n",
        "\n",
        "class ResNet4(nn.Module):\n",
        "  def __init__(self, in_channels=3, num_classes=10):\n",
        "    super().__init__()\n",
        "    self.block1 = ResBlock2(in_channels, 16, stride=2)\n",
        "    self.block2 = ResBlock2(16, 32, stride=1)\n",
        "    self.block3 = ResBlock2(32, 64, stride=2)\n",
        "    self.block4 = ResBlock2(64, 128, stride=2)\n",
        "    self.block5 = ResBlock3(128, 256, stride=2)\n",
        "    self.block6 = ResBlock3(256, 512, stride=2)\n",
        "    self.pool = nn.AdaptiveAvgPool2d(1)\n",
        "    self.lastlayer = nn.Linear(512, num_classes)\n",
        "  def forward(self, x):\n",
        "    x = self.block1(x)\n",
        "    x = self.block2(x)\n",
        "    x = self.block3(x)\n",
        "    #print(x.shape)\n",
        "    x = self.block4(x)\n",
        "    #print(x.shape)\n",
        "    x = self.block5(x)\n",
        "    #print(x.shape)\n",
        "    x = self.block6(x)\n",
        "    #print(x.shape)\n",
        "    x = self.pool(x)\n",
        "    x = x.view(x.size(0), -1)\n",
        "    return self.lastlayer(x)\n",
        "\n"
      ],
      "metadata": {
        "id": "RZHbENykB0i5"
      },
      "execution_count": 26,
      "outputs": []
    },
    {
      "cell_type": "code",
      "source": [
        "model1 = ResNet(3, 10)\n",
        "#ummary(model1, input_size=(64, 3, 128, 128))\n",
        "model2 = ResNet2(3, 10)\n",
        "#summary(model2, input_size=(64, 3, 128, 128))\n",
        "model3 = ResNet3(3, 10)\n",
        "summary(model3, input_size=(64, 3, 128, 128))\n",
        "model4 = ResNet4(3, 10)\n",
        "summary(model4, input_size=(64, 3, 128, 128))\n",
        "# xb, __ = dls.one_batch()\n",
        "# model4(xb)\n",
        "# rb3v1 = ResBlock3(3, 16)\n",
        "# rb3v1(xb)\n",
        "# class ResBlock3(nn.Module):\n",
        "#   def __init__(self, in_channels, out_channels, ks=3, stride=2):\n",
        "#     super().__init__()\n",
        "#     self.conv_block1 = bottleneck_block1(in_channels, out_channels, ks=ks, act_cls = nn.ReLU())\n",
        "#     self.id_conv = nn.Identity() if in_channels==out_channels else conv_layer(in_channels, out_channels, act_cls = None, ks=1, stride=stride)\n",
        "#   def forward(self, x):\n",
        "#     x = self.conv_block1(x) + self.id_conv(x)\n",
        "#     return F.relu(x)"
      ],
      "metadata": {
        "colab": {
          "base_uri": "https://localhost:8080/"
        },
        "collapsed": true,
        "id": "54sAiBRXHJql",
        "outputId": "ca3002f9-dd9b-4869-e0ea-c6389cc8922a"
      },
      "execution_count": 9,
      "outputs": [
        {
          "output_type": "execute_result",
          "data": {
            "text/plain": [
              "===============================================================================================\n",
              "Layer (type:depth-idx)                        Output Shape              Param #\n",
              "===============================================================================================\n",
              "ResNet4                                       [64, 10]                  --\n",
              "├─Sequential: 1-1                             [64, 16, 64, 64]          4,704\n",
              "│    └─ResBlock: 2-1                          [64, 16, 64, 64]          96\n",
              "│    │    └─Sequential: 3-1                   [64, 16, 64, 64]          2,832\n",
              "├─Sequential: 1-14                            --                        (recursive)\n",
              "│    └─ResBlock: 2-20                         --                        (recursive)\n",
              "│    │    └─Sequential: 3-26                  --                        (recursive)\n",
              "├─Sequential: 1-5                             --                        (recursive)\n",
              "│    └─ResBlock: 2-3                          --                        (recursive)\n",
              "│    │    └─Sequential: 3-3                   --                        (recursive)\n",
              "│    │    └─Sequential: 3-4                   [64, 16, 64, 64]          96\n",
              "│    └─ResBlock: 2-4                          [64, 16, 64, 64]          --\n",
              "│    │    └─Sequential: 3-5                   [64, 16, 64, 64]          4,704\n",
              "├─Sequential: 1-14                            --                        (recursive)\n",
              "│    └─ResBlock: 2-20                         --                        (recursive)\n",
              "│    │    └─Sequential: 3-26                  --                        (recursive)\n",
              "├─Sequential: 1-5                             --                        (recursive)\n",
              "│    └─ResBlock: 2-6                          --                        (recursive)\n",
              "│    │    └─Sequential: 3-7                   --                        (recursive)\n",
              "│    │    └─Identity: 3-8                     [64, 16, 64, 64]          --\n",
              "├─Sequential: 1-6                             [64, 32, 64, 64]          18,624\n",
              "│    └─ResBlock: 2-7                          [64, 32, 64, 64]          608\n",
              "│    │    └─Sequential: 3-9                   [64, 32, 64, 64]          14,016\n",
              "├─Sequential: 1-14                            --                        (recursive)\n",
              "│    └─ResBlock: 2-20                         --                        (recursive)\n",
              "│    │    └─Sequential: 3-26                  --                        (recursive)\n",
              "├─Sequential: 1-10                            --                        (recursive)\n",
              "│    └─ResBlock: 2-9                          --                        (recursive)\n",
              "│    │    └─Sequential: 3-11                  --                        (recursive)\n",
              "│    │    └─Sequential: 3-12                  [64, 32, 64, 64]          608\n",
              "│    └─ResBlock: 2-10                         [64, 32, 64, 64]          --\n",
              "│    │    └─Sequential: 3-13                  [64, 32, 64, 64]          18,624\n",
              "├─Sequential: 1-14                            --                        (recursive)\n",
              "│    └─ResBlock: 2-20                         --                        (recursive)\n",
              "│    │    └─Sequential: 3-26                  --                        (recursive)\n",
              "├─Sequential: 1-10                            --                        (recursive)\n",
              "│    └─ResBlock: 2-12                         --                        (recursive)\n",
              "│    │    └─Sequential: 3-15                  --                        (recursive)\n",
              "│    │    └─Identity: 3-16                    [64, 32, 64, 64]          --\n",
              "├─Sequential: 1-11                            [64, 64, 32, 32]          74,112\n",
              "│    └─ResBlock: 2-13                         [64, 64, 32, 32]          2,240\n",
              "│    │    └─Sequential: 3-17                  [64, 64, 32, 32]          55,680\n",
              "├─Sequential: 1-14                            --                        (recursive)\n",
              "│    └─ResBlock: 2-20                         --                        (recursive)\n",
              "│    │    └─Sequential: 3-26                  --                        (recursive)\n",
              "├─Sequential: 1-15                            --                        (recursive)\n",
              "│    └─ResBlock: 2-15                         --                        (recursive)\n",
              "│    │    └─Sequential: 3-19                  --                        (recursive)\n",
              "│    │    └─Sequential: 3-20                  [64, 64, 32, 32]          2,240\n",
              "│    └─ResBlock: 2-16                         [64, 64, 32, 32]          --\n",
              "│    │    └─Sequential: 3-21                  [64, 64, 32, 32]          74,112\n",
              "├─Sequential: 1-14                            --                        (recursive)\n",
              "│    └─ResBlock: 2-20                         --                        (recursive)\n",
              "│    │    └─Sequential: 3-26                  --                        (recursive)\n",
              "├─Sequential: 1-15                            --                        (recursive)\n",
              "│    └─ResBlock: 2-18                         --                        (recursive)\n",
              "│    │    └─Sequential: 3-23                  --                        (recursive)\n",
              "│    │    └─Identity: 3-24                    [64, 64, 32, 32]          --\n",
              "├─Sequential: 1-16                            [64, 128, 16, 16]         --\n",
              "│    └─ResBlock: 2-19                         [64, 128, 16, 16]         8,576\n",
              "│    │    └─Sequential: 3-25                  [64, 128, 16, 16]         221,952\n",
              "│    └─ResBlock: 2-20                         --                        (recursive)\n",
              "│    │    └─Sequential: 3-26                  --                        (recursive)\n",
              "│    └─ResBlock: 2-21                         --                        (recursive)\n",
              "│    │    └─Sequential: 3-27                  --                        (recursive)\n",
              "│    │    └─Sequential: 3-28                  [64, 128, 16, 16]         8,576\n",
              "│    └─ResBlock: 2-22                         [64, 128, 16, 16]         --\n",
              "│    │    └─Sequential: 3-29                  [64, 128, 16, 16]         295,680\n",
              "│    │    └─Identity: 3-30                    [64, 128, 16, 16]         --\n",
              "├─ResBlock3: 1-17                             [64, 256, 8, 8]           --\n",
              "│    └─Sequential: 2-23                       [64, 256, 8, 8]           --\n",
              "│    │    └─Sequential: 3-31                  [64, 64, 16, 16]          8,384\n",
              "│    │    └─Sequential: 3-32                  --                        (recursive)\n",
              "│    │    └─Sequential: 3-33                  [64, 64, 8, 8]            37,056\n",
              "│    │    └─Sequential: 3-34                  [64, 256, 8, 8]           17,152\n",
              "│    └─Sequential: 2-24                       [64, 256, 8, 8]           --\n",
              "│    │    └─Conv2d: 3-35                      [64, 256, 8, 8]           33,024\n",
              "│    │    └─BatchNorm2d: 3-36                 [64, 256, 8, 8]           512\n",
              "├─ResBlock3: 1-18                             [64, 512, 4, 4]           --\n",
              "│    └─Sequential: 2-25                       [64, 512, 4, 4]           --\n",
              "│    │    └─Sequential: 3-37                  [64, 128, 8, 8]           33,152\n",
              "│    │    └─Sequential: 3-38                  --                        (recursive)\n",
              "│    │    └─Sequential: 3-39                  [64, 128, 4, 4]           147,840\n",
              "│    │    └─Sequential: 3-40                  [64, 512, 4, 4]           67,072\n",
              "│    └─Sequential: 2-26                       [64, 512, 4, 4]           --\n",
              "│    │    └─Conv2d: 3-41                      [64, 512, 4, 4]           131,584\n",
              "│    │    └─BatchNorm2d: 3-42                 [64, 512, 4, 4]           1,024\n",
              "├─AdaptiveAvgPool2d: 1-19                     [64, 512, 1, 1]           --\n",
              "├─Linear: 1-20                                [64, 10]                  5,130\n",
              "===============================================================================================\n",
              "Total params: 1,535,290\n",
              "Trainable params: 1,535,290\n",
              "Non-trainable params: 0\n",
              "Total mult-adds (Units.GIGABYTES): 28.78\n",
              "===============================================================================================\n",
              "Input size (MB): 12.58\n",
              "Forward/backward pass size (MB): 1591.74\n",
              "Params size (MB): 4.72\n",
              "Estimated Total Size (MB): 1609.05\n",
              "==============================================================================================="
            ]
          },
          "metadata": {},
          "execution_count": 9
        }
      ]
    },
    {
      "cell_type": "code",
      "source": [
        "def validate_model(model, loss_fn, valid_loader, epochs = 1, device=\"cpu\"):\n",
        "  model.to(device)\n",
        "  model.eval()\n",
        "  for epoch in range(epochs):\n",
        "    correct = 0\n",
        "    val_loss = 0\n",
        "    with torch.no_grad():\n",
        "      for xb, yb in valid_loader:\n",
        "        xb = xb.to(device)\n",
        "        yb = Tensor(yb).to(device)\n",
        "        preds = model(xb)\n",
        "        loss = loss_fn(preds, yb)\n",
        "        val_loss += loss.item() * xb.size(0)\n",
        "        correct += (preds.argmax(dim=1) == yb).sum().item()\n",
        "    val_acc = correct / len(valid_loader.dataset)\n",
        "    val_loss /= len(valid_loader.dataset)\n",
        "    print(f\"Epoch {epoch+1}: Val loss {val_loss:.4f}, Val accuracy {val_acc:.4f}\")\n",
        "def train_model(model, optimizer, loss_fn, train_loader, epochs=3, device=\"cpu\"):\n",
        "  model.to(device)\n",
        "  model.train()\n",
        "  for epoch in range(epochs):\n",
        "    train_loss = 0\n",
        "    train_accruracy = 0\n",
        "    train_correct = 0\n",
        "    i = 0\n",
        "    for xb, yb in train_loader:\n",
        "      xb = Tensor(xb).to(device)\n",
        "      yb = Tensor(yb).to(device)\n",
        "      optimizer.zero_grad()\n",
        "      pred = model(xb)          # (batch_size, num_classes)\n",
        "      loss = loss_fn(pred, yb)\n",
        "      loss.backward()\n",
        "      optimizer.step()\n",
        "      train_loss += loss.item() * xb.size(0)\n",
        "      train_accruracy += (pred.argmax(dim=1) == yb).float().mean().item()\n",
        "      train_correct += (pred.argmax(dim=1) == yb).sum().item()\n",
        "      i += 1\n",
        "      # if (i >= 50): break\n",
        "\n",
        "    avg_loss = train_loss / (i * train_loader.bs)\n",
        "    avg_acc = train_correct / (i * train_loader.bs)\n",
        "    print(f\"Epoch: {epoch+1}/{epochs}, Loss: {avg_loss}, Accuracy: {avg_acc}\")\n",
        "    print(i)\n",
        "    validate_model(model, loss_fn, dls.valid, epochs = 1, device=\"cuda\")\n"
      ],
      "metadata": {
        "id": "twguZSajB2GQ"
      },
      "execution_count": 48,
      "outputs": []
    },
    {
      "cell_type": "code",
      "source": [
        "# xb, yb = dls.one_batch()\n",
        "# yb = Tensor(yb)\n",
        "# type(Tensor(xb)), type(yb), xb\n",
        "model1 = ResNet(3, 10) #original lr = 3e-4\n",
        "train_model(model1, torch.optim.Adam(model1.parameters(), lr=0.001), nn.CrossEntropyLoss(), dls.train, 5, \"cpu\")"
      ],
      "metadata": {
        "colab": {
          "base_uri": "https://localhost:8080/"
        },
        "id": "IAN_Cx8aHJJx",
        "outputId": "c83a1699-4bed-45b3-9d46-397218e14a6d"
      },
      "execution_count": 10,
      "outputs": [
        {
          "output_type": "stream",
          "name": "stdout",
          "text": [
            "Epoch: 1/5, Loss: 2.0011396765708924, Accuracy: 0.2890625\n",
            "20\n",
            "Epoch: 2/5, Loss: 1.7992302060127259, Accuracy: 0.37109375\n",
            "20\n",
            "Epoch: 3/5, Loss: 1.6905508995056153, Accuracy: 0.4359375\n",
            "20\n",
            "Epoch: 4/5, Loss: 1.64366917014122, Accuracy: 0.45078125\n",
            "20\n",
            "Epoch: 5/5, Loss: 1.575829178094864, Accuracy: 0.487890625\n",
            "20\n"
          ]
        }
      ]
    },
    {
      "cell_type": "code",
      "source": [
        "# Save only the model weights\n",
        "torch.save(model1.state_dict(), 'model1_weights.pth')\n",
        "files.download('model1_weights.pth')"
      ],
      "metadata": {
        "colab": {
          "base_uri": "https://localhost:8080/",
          "height": 17
        },
        "id": "Mt4Y0MWFudqV",
        "outputId": "748d0d5d-9eb1-4746-8b39-e62198e3a7a5"
      },
      "execution_count": 37,
      "outputs": [
        {
          "output_type": "display_data",
          "data": {
            "text/plain": [
              "<IPython.core.display.Javascript object>"
            ],
            "application/javascript": [
              "\n",
              "    async function download(id, filename, size) {\n",
              "      if (!google.colab.kernel.accessAllowed) {\n",
              "        return;\n",
              "      }\n",
              "      const div = document.createElement('div');\n",
              "      const label = document.createElement('label');\n",
              "      label.textContent = `Downloading \"${filename}\": `;\n",
              "      div.appendChild(label);\n",
              "      const progress = document.createElement('progress');\n",
              "      progress.max = size;\n",
              "      div.appendChild(progress);\n",
              "      document.body.appendChild(div);\n",
              "\n",
              "      const buffers = [];\n",
              "      let downloaded = 0;\n",
              "\n",
              "      const channel = await google.colab.kernel.comms.open(id);\n",
              "      // Send a message to notify the kernel that we're ready.\n",
              "      channel.send({})\n",
              "\n",
              "      for await (const message of channel.messages) {\n",
              "        // Send a message to notify the kernel that we're ready.\n",
              "        channel.send({})\n",
              "        if (message.buffers) {\n",
              "          for (const buffer of message.buffers) {\n",
              "            buffers.push(buffer);\n",
              "            downloaded += buffer.byteLength;\n",
              "            progress.value = downloaded;\n",
              "          }\n",
              "        }\n",
              "      }\n",
              "      const blob = new Blob(buffers, {type: 'application/binary'});\n",
              "      const a = document.createElement('a');\n",
              "      a.href = window.URL.createObjectURL(blob);\n",
              "      a.download = filename;\n",
              "      div.appendChild(a);\n",
              "      a.click();\n",
              "      div.remove();\n",
              "    }\n",
              "  "
            ]
          },
          "metadata": {}
        },
        {
          "output_type": "display_data",
          "data": {
            "text/plain": [
              "<IPython.core.display.Javascript object>"
            ],
            "application/javascript": [
              "download(\"download_89b2d9ae-628f-4389-99a8-513788197d48\", \"model1_weights.pth\", 1601158)"
            ]
          },
          "metadata": {}
        }
      ]
    },
    {
      "cell_type": "code",
      "source": [
        "model2 = ResNet2(3, 10)\n",
        "train_model(model2, torch.optim.Adam(model2.parameters(), lr=0.001), nn.CrossEntropyLoss(), dls.train, 5, \"cpu\")"
      ],
      "metadata": {
        "id": "ebw21-Fse-9_"
      },
      "execution_count": null,
      "outputs": []
    },
    {
      "cell_type": "code",
      "source": [
        "model3 = ResNet3(3, 10)\n",
        "train_model(model3, torch.optim.Adam(model3.parameters(), lr=0.001), nn.CrossEntropyLoss(), dls.train, 5, \"cpu\")"
      ],
      "metadata": {
        "id": "vwvU_nnRg7N7"
      },
      "execution_count": null,
      "outputs": []
    },
    {
      "cell_type": "code",
      "source": [
        "# model4 = ResNet4(3, 10)\n",
        "train_model(model4, torch.optim.Adam(model4.parameters(), lr=0.001), nn.CrossEntropyLoss(), dls.train, 5, \"cuda\")"
      ],
      "metadata": {
        "colab": {
          "base_uri": "https://localhost:8080/"
        },
        "id": "rDrly5lQotrp",
        "outputId": "349bc824-6f1f-4b2e-c376-3f93203eade9"
      },
      "execution_count": 52,
      "outputs": [
        {
          "output_type": "stream",
          "name": "stdout",
          "text": [
            "Epoch: 1/5, Loss: 1.643256856970591, Accuracy: 0.4356806506849315\n",
            "73\n",
            "Epoch 1: Val loss 1.7128, Val accuracy 0.4222\n",
            "Epoch: 2/5, Loss: 1.998333602735441, Accuracy: 0.3125\n",
            "73\n",
            "Epoch 1: Val loss 1.7831, Val accuracy 0.3850\n",
            "Epoch: 3/5, Loss: 1.6919244772767368, Accuracy: 0.4144905821917808\n",
            "73\n",
            "Epoch 1: Val loss 1.6002, Val accuracy 0.4642\n",
            "Epoch: 4/5, Loss: 1.582338703821783, Accuracy: 0.4599743150684932\n",
            "73\n",
            "Epoch 1: Val loss 1.5445, Val accuracy 0.4813\n",
            "Epoch: 5/5, Loss: 1.4992387147798931, Accuracy: 0.4981806506849315\n",
            "73\n",
            "Epoch 1: Val loss 1.6246, Val accuracy 0.4879\n"
          ]
        }
      ]
    },
    {
      "cell_type": "code",
      "source": [
        "train_model(model4, torch.optim.Adam(model4.parameters(), lr=0.001), nn.CrossEntropyLoss(), dls.train, 5, \"cuda\")\n",
        "torch.save(model4.state_dict(), 'model4_weights.pth')\n",
        "from google.colab import files\n",
        "files.download('model4_weights.pth')"
      ],
      "metadata": {
        "colab": {
          "base_uri": "https://localhost:8080/",
          "height": 191
        },
        "id": "Slp3_DeG0EVL",
        "outputId": "3abd91cd-e6fc-46d0-aa36-a01eb2dc085a"
      },
      "execution_count": 34,
      "outputs": [
        {
          "output_type": "stream",
          "name": "stdout",
          "text": [
            "Epoch: 1/5, Loss: 0.7888702162324566, Accuracy: 0.7448630136986302\n",
            "73\n",
            "Epoch: 2/5, Loss: 0.7193375976934825, Accuracy: 0.7674443493150684\n",
            "73\n",
            "Epoch: 3/5, Loss: 0.6898748580723593, Accuracy: 0.7772902397260274\n",
            "73\n",
            "Epoch: 4/5, Loss: 0.6605984560430866, Accuracy: 0.7836044520547946\n",
            "73\n",
            "Epoch: 5/5, Loss: 0.6376392273870233, Accuracy: 0.7924871575342466\n",
            "73\n"
          ]
        },
        {
          "output_type": "display_data",
          "data": {
            "text/plain": [
              "<IPython.core.display.Javascript object>"
            ],
            "application/javascript": [
              "\n",
              "    async function download(id, filename, size) {\n",
              "      if (!google.colab.kernel.accessAllowed) {\n",
              "        return;\n",
              "      }\n",
              "      const div = document.createElement('div');\n",
              "      const label = document.createElement('label');\n",
              "      label.textContent = `Downloading \"${filename}\": `;\n",
              "      div.appendChild(label);\n",
              "      const progress = document.createElement('progress');\n",
              "      progress.max = size;\n",
              "      div.appendChild(progress);\n",
              "      document.body.appendChild(div);\n",
              "\n",
              "      const buffers = [];\n",
              "      let downloaded = 0;\n",
              "\n",
              "      const channel = await google.colab.kernel.comms.open(id);\n",
              "      // Send a message to notify the kernel that we're ready.\n",
              "      channel.send({})\n",
              "\n",
              "      for await (const message of channel.messages) {\n",
              "        // Send a message to notify the kernel that we're ready.\n",
              "        channel.send({})\n",
              "        if (message.buffers) {\n",
              "          for (const buffer of message.buffers) {\n",
              "            buffers.push(buffer);\n",
              "            downloaded += buffer.byteLength;\n",
              "            progress.value = downloaded;\n",
              "          }\n",
              "        }\n",
              "      }\n",
              "      const blob = new Blob(buffers, {type: 'application/binary'});\n",
              "      const a = document.createElement('a');\n",
              "      a.href = window.URL.createObjectURL(blob);\n",
              "      a.download = filename;\n",
              "      div.appendChild(a);\n",
              "      a.click();\n",
              "      div.remove();\n",
              "    }\n",
              "  "
            ]
          },
          "metadata": {}
        },
        {
          "output_type": "display_data",
          "data": {
            "text/plain": [
              "<IPython.core.display.Javascript object>"
            ],
            "application/javascript": [
              "download(\"download_ff7ea664-a54a-4076-bfcf-c9209c2b95ea\", \"model4_weights.pth\", 4819116)"
            ]
          },
          "metadata": {}
        }
      ]
    },
    {
      "cell_type": "code",
      "source": [
        "modeltest = ResNet(3, 10)\n",
        "train_model(modeltest, torch.optim.Adam(modeltest.parameters(), lr=0.001), nn.CrossEntropyLoss(), dls.train, 5, \"cuda\")\n",
        "# modeltest.load_state_dict(torch.load('model1_weights.pth'))\n",
        "# modeltest.parameters()"
      ],
      "metadata": {
        "colab": {
          "base_uri": "https://localhost:8080/"
        },
        "id": "ac0y1fBZvtdz",
        "outputId": "eea09c7a-3bcb-4c75-bdf9-7c800594d1d7"
      },
      "execution_count": 49,
      "outputs": [
        {
          "output_type": "stream",
          "name": "stdout",
          "text": [
            "Epoch: 1/5, Loss: 1.7540258201834273, Accuracy: 0.403146404109589\n",
            "73\n",
            "Epoch 1: Val loss 1.6426, Val accuracy 0.4759\n",
            "Epoch: 2/5, Loss: 1.6793934809018487, Accuracy: 0.4357876712328767\n",
            "73\n",
            "Epoch 1: Val loss 1.5285, Val accuracy 0.4927\n",
            "Epoch: 3/5, Loss: 1.4439212802338273, Accuracy: 0.5233304794520548\n",
            "73\n",
            "Epoch 1: Val loss 1.5028, Val accuracy 0.4866\n",
            "Epoch: 4/5, Loss: 1.3633903493619945, Accuracy: 0.557791095890411\n",
            "73\n",
            "Epoch 1: Val loss 1.3350, Val accuracy 0.5730\n",
            "Epoch: 5/5, Loss: 1.2746940851211548, Accuracy: 0.5844392123287672\n",
            "73\n",
            "Epoch 1: Val loss 1.3780, Val accuracy 0.5605\n"
          ]
        }
      ]
    },
    {
      "cell_type": "code",
      "source": [
        "torch.save(modeltest.state_dict(), 'modeltest_weights.pth')\n",
        "files.download('modeltest_weights.pth')"
      ],
      "metadata": {
        "colab": {
          "base_uri": "https://localhost:8080/",
          "height": 17
        },
        "id": "X2Xl-YOo-D3l",
        "outputId": "891d465b-0c3f-46ca-8d11-95612aeabb97"
      },
      "execution_count": 51,
      "outputs": [
        {
          "output_type": "display_data",
          "data": {
            "text/plain": [
              "<IPython.core.display.Javascript object>"
            ],
            "application/javascript": [
              "\n",
              "    async function download(id, filename, size) {\n",
              "      if (!google.colab.kernel.accessAllowed) {\n",
              "        return;\n",
              "      }\n",
              "      const div = document.createElement('div');\n",
              "      const label = document.createElement('label');\n",
              "      label.textContent = `Downloading \"${filename}\": `;\n",
              "      div.appendChild(label);\n",
              "      const progress = document.createElement('progress');\n",
              "      progress.max = size;\n",
              "      div.appendChild(progress);\n",
              "      document.body.appendChild(div);\n",
              "\n",
              "      const buffers = [];\n",
              "      let downloaded = 0;\n",
              "\n",
              "      const channel = await google.colab.kernel.comms.open(id);\n",
              "      // Send a message to notify the kernel that we're ready.\n",
              "      channel.send({})\n",
              "\n",
              "      for await (const message of channel.messages) {\n",
              "        // Send a message to notify the kernel that we're ready.\n",
              "        channel.send({})\n",
              "        if (message.buffers) {\n",
              "          for (const buffer of message.buffers) {\n",
              "            buffers.push(buffer);\n",
              "            downloaded += buffer.byteLength;\n",
              "            progress.value = downloaded;\n",
              "          }\n",
              "        }\n",
              "      }\n",
              "      const blob = new Blob(buffers, {type: 'application/binary'});\n",
              "      const a = document.createElement('a');\n",
              "      a.href = window.URL.createObjectURL(blob);\n",
              "      a.download = filename;\n",
              "      div.appendChild(a);\n",
              "      a.click();\n",
              "      div.remove();\n",
              "    }\n",
              "  "
            ]
          },
          "metadata": {}
        },
        {
          "output_type": "display_data",
          "data": {
            "text/plain": [
              "<IPython.core.display.Javascript object>"
            ],
            "application/javascript": [
              "download(\"download_11a3e343-17d2-4e96-801f-3505e32373fb\", \"modeltest_weights.pth\", 1601281)"
            ]
          },
          "metadata": {}
        }
      ]
    },
    {
      "cell_type": "code",
      "source": [
        "print(len(dls.valid.dataset))\n",
        "validate_model(model4, nn.CrossEntropyLoss(), dls.valid, epochs = 5, device=\"cuda\")\n",
        "validate_model(model1, nn.CrossEntropyLoss(), dls.valid, epochs = 5, device=\"cuda\")"
      ],
      "metadata": {
        "colab": {
          "base_uri": "https://localhost:8080/"
        },
        "id": "HAXS4ZIW5jNn",
        "outputId": "d450a583-7802-4da5-f1d7-e5192e525c32"
      },
      "execution_count": 46,
      "outputs": [
        {
          "output_type": "stream",
          "name": "stdout",
          "text": [
            "3925\n",
            "Epoch 1: Val loss 3.2150, Val accuracy 0.4782\n",
            "Epoch 2: Val loss 3.2150, Val accuracy 0.4782\n",
            "Epoch 3: Val loss 3.2150, Val accuracy 0.4782\n",
            "Epoch 4: Val loss 3.2150, Val accuracy 0.4782\n",
            "Epoch 5: Val loss 3.2150, Val accuracy 0.4782\n",
            "Epoch 1: Val loss 0.9774, Val accuracy 0.6894\n",
            "Epoch 2: Val loss 0.9774, Val accuracy 0.6894\n",
            "Epoch 3: Val loss 0.9774, Val accuracy 0.6894\n",
            "Epoch 4: Val loss 0.9774, Val accuracy 0.6894\n",
            "Epoch 5: Val loss 0.9774, Val accuracy 0.6894\n"
          ]
        }
      ]
    }
  ]
}