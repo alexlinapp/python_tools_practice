{
  "nbformat": 4,
  "nbformat_minor": 0,
  "metadata": {
    "colab": {
      "provenance": [],
      "gpuType": "T4",
      "include_colab_link": true
    },
    "kernelspec": {
      "name": "python3",
      "display_name": "Python 3"
    },
    "language_info": {
      "name": "python"
    },
    "accelerator": "GPU"
  },
  "cells": [
    {
      "cell_type": "markdown",
      "metadata": {
        "id": "view-in-github",
        "colab_type": "text"
      },
      "source": [
        "<a href=\"https://colab.research.google.com/github/alexlinapp/python_tools_practice/blob/main/number_classifier.ipynb\" target=\"_parent\"><img src=\"https://colab.research.google.com/assets/colab-badge.svg\" alt=\"Open In Colab\"/></a>"
      ]
    },
    {
      "cell_type": "code",
      "source": [
        "import torch\n",
        "from torchvision import datasets, transforms\n",
        "from torch.utils.data import DataLoader\n",
        "import torch.nn as nn\n",
        "import torch.nn.functional as F\n",
        "print(torch.cuda.is_available())\n",
        "device = torch.device('cuda' if torch.cuda.is_available() else 'cpu')"
      ],
      "metadata": {
        "colab": {
          "base_uri": "https://localhost:8080/"
        },
        "id": "iksYMZRPDGl9",
        "outputId": "06b0ffca-9c41-4f09-af8c-3a82366e0b50"
      },
      "execution_count": 1,
      "outputs": [
        {
          "output_type": "stream",
          "name": "stdout",
          "text": [
            "True\n"
          ]
        }
      ]
    },
    {
      "cell_type": "code",
      "execution_count": 2,
      "metadata": {
        "id": "um2BMdh9I6HR",
        "outputId": "c2766e2f-3478-44c9-d264-94569a992ec0",
        "colab": {
          "base_uri": "https://localhost:8080/"
        }
      },
      "outputs": [
        {
          "output_type": "stream",
          "name": "stderr",
          "text": [
            "100%|██████████| 9.91M/9.91M [00:00<00:00, 16.9MB/s]\n",
            "100%|██████████| 28.9k/28.9k [00:00<00:00, 505kB/s]\n",
            "100%|██████████| 1.65M/1.65M [00:00<00:00, 4.04MB/s]\n",
            "100%|██████████| 4.54k/4.54k [00:00<00:00, 8.00MB/s]\n"
          ]
        }
      ],
      "source": [
        "# Define transforms to convert PIL images to tensors\n",
        "transform = transforms.ToTensor()\n",
        "\n",
        "# Download and load MNIST training data\n",
        "mnist_train = datasets.MNIST(root='./data', train=True, download=True, transform=transform)\n",
        "\n",
        "# Download and load MNIST test data\n",
        "mnist_test = datasets.MNIST(root='./data', train=False, download=True, transform=transform)"
      ]
    },
    {
      "cell_type": "code",
      "source": [
        "dl_train = DataLoader(mnist_train, batch_size=16, shuffle=True)\n",
        "dl_valid = DataLoader(mnist_test, batch_size=16, shuffle=True)\n",
        "xb, yb = next(iter(dl_train))\n",
        "xb.shape, yb.shape\n",
        "xb = xb.view(xb.size(0), -1)\n",
        "#yb = yb.view(yb.size(0), -1)\n",
        "xb.shape,yb.shape\n",
        "#xb[0], yb[0], yb.shape\n",
        "# preds = linear1(xb[:4])\n",
        "# loss = mnist_loss(preds, yb[:4])\n",
        "# loss\n",
        "\n"
      ],
      "metadata": {
        "colab": {
          "base_uri": "https://localhost:8080/"
        },
        "id": "ZdQgZWu_K78A",
        "outputId": "aa1a43ca-f1da-4a7f-e67e-caf8e5935e86"
      },
      "execution_count": 72,
      "outputs": [
        {
          "output_type": "execute_result",
          "data": {
            "text/plain": [
              "(torch.Size([16, 784]), torch.Size([16]))"
            ]
          },
          "metadata": {},
          "execution_count": 72
        }
      ]
    },
    {
      "cell_type": "code",
      "source": [
        "class BasicOptimizer:\n",
        "  def __init__(self, params, learnrate):\n",
        "    self.params = list(params)\n",
        "    self.learnrate = learnrate\n",
        "\n",
        "  def step(self, *args, **kwargs):\n",
        "    for p in self.params:\n",
        "      #p.data -= p.grad.data * self.learnrate #using .data so it isn't calculated into gradient\n",
        "      if p.grad is not None:\n",
        "            with torch.no_grad():\n",
        "                p.sub_(self.learnrate * p.grad)\n",
        "  def zero_grad(self, *args, **kwargs):\n",
        "    for p in self.params:\n",
        "      if p.grad is not None:\n",
        "        p.grad.zero_()"
      ],
      "metadata": {
        "id": "qT1S2C3BlhD2"
      },
      "execution_count": 63,
      "outputs": []
    },
    {
      "cell_type": "code",
      "source": [
        "def init_params(size, std=1.0):\n",
        "  return (torch.randn(size)*std).requires_grad_()\n",
        "\n",
        "# own softmax function for practice, use torch.softmax(logits, dim=1)\n",
        "# subtracting x.max(dim=1).values for numerical stability. Dividing by e^{-m} / e^{-m}\n",
        "def softmax(x):\n",
        "  e_x = torch.exp(x - x.max(dim=1, keepdim=True).values)\n",
        "  return e_x / e_x.sum(dim = 1, keepdim=True)\n",
        "def mnist_loss(prediction, target):\n",
        "  eps = 1e-7\n",
        "  prediction = softmax(prediction)\n",
        "  prediction = prediction.clamp(min=eps)\n",
        "  idx = range(target.size(0))\n",
        "  prediction = prediction[idx, target]\n",
        "  # print(\"This is prediction\", prediction)\n",
        "  # print(\"THis is log torch: \", -torch.log(prediction))\n",
        "  return (-torch.log(prediction)).mean();\n",
        "  #return F.cross_entropy(prediction, target)\n",
        "def calc_grad(xb, yb, model):\n",
        "  preds = model(xb)\n",
        "  loss = mnist_loss(preds, yb)\n",
        "  #print(\"loss: \", loss)\n",
        "  loss.backward()"
      ],
      "metadata": {
        "id": "lvpboHxvNpic"
      },
      "execution_count": 65,
      "outputs": []
    },
    {
      "cell_type": "code",
      "source": [
        "# need 7840 weights. Have \"10 additional neurons in the second layer\"\n",
        "w1, w2 = init_params((784, 16), 0.1), init_params((16, 10), 0.1)\n",
        "b1, b2 = init_params(16, 0.1), init_params(10, 0.1)\n",
        "#w1, w2 = w1.to(device), w2.to(device)\n",
        "#b1, b2 = b1.to(device), b2.to(device)\n",
        "# weights = weights.to(device)\n",
        "# bias = bias.to(device)\n",
        "def linear1(x):\n",
        "  x = x@w1 + b1\n",
        "  x = F.relu(x)\n",
        "  x = x@w2 + b2\n",
        "  return x\n",
        "w1[:2, :2], w2[:2,:2], b1[1], b2[1]"
      ],
      "metadata": {
        "colab": {
          "base_uri": "https://localhost:8080/"
        },
        "id": "V1ndzzmJOtMF",
        "outputId": "aaa55c73-a86b-4fe4-d6bf-cf01a463673e",
        "collapsed": true
      },
      "execution_count": 66,
      "outputs": [
        {
          "output_type": "execute_result",
          "data": {
            "text/plain": [
              "(tensor([[ 0.1989,  0.1225],\n",
              "         [ 0.2304, -0.0323]], grad_fn=<SliceBackward0>),\n",
              " tensor([[ 0.0184, -0.0527],\n",
              "         [ 0.0886,  0.0508]], grad_fn=<SliceBackward0>),\n",
              " tensor(-0.2061, grad_fn=<SelectBackward0>),\n",
              " tensor(-0.0958, grad_fn=<SelectBackward0>))"
            ]
          },
          "metadata": {},
          "execution_count": 66
        }
      ]
    },
    {
      "cell_type": "code",
      "source": [
        "opt = BasicOptimizer((w1, w2, b1, b2), 0.1)\n",
        "#train_epoch(linear1)\n",
        "xb, yb = next(iter(dl_train))\n",
        "xb.shape,yb.shape\n",
        "xb = xb.view(xb.size(0), -1)\n",
        "calc_grad(xb, yb, linear1)\n",
        "print(w1[:2, :2], '\\n', w2[:2,:2], '\\n', b1[1], '\\n', b2[1], '\\n', w1.grad[143])\n",
        "opt.step()\n",
        "print(\"AFTER=====\")\n",
        "print(w1[:2, :2], '\\n', w2[:2,:2], '\\n', b1[1], '\\n', b2[1], '\\n', w1.grad[143])\n",
        "# for i in range(w1.size(0)):\n",
        "#   if (w1.grad[i,].sum() != 0):\n",
        "#     print(i, \" \", w1.grad[i,])\n",
        "opt.zero_grad()\n",
        "print(yb)\n",
        "for i in range(4):\n",
        "  xb, yb = next(iter(dl_train))\n",
        "  xb = xb.view(xb.size(0), -1)\n",
        "  print(xb.shape)\n",
        "  calc_grad(xb, yb, linear1)\n",
        "  opt.step()\n",
        "  opt.zero_grad()\n",
        "  print(validate_epoch(linear1), end= \" \")\n"
      ],
      "metadata": {
        "colab": {
          "base_uri": "https://localhost:8080/"
        },
        "id": "GluYyM3w6gDm",
        "outputId": "f132cd13-a029-4b92-f7e0-0036c5ec72ee"
      },
      "execution_count": 70,
      "outputs": [
        {
          "output_type": "stream",
          "name": "stdout",
          "text": [
            "tensor([[ 0.1989,  0.1225],\n",
            "        [ 0.2304, -0.0323]], grad_fn=<SliceBackward0>) \n",
            " tensor([[ 0.0150, -0.0468],\n",
            "        [ 0.0988,  0.0474]], grad_fn=<SliceBackward0>) \n",
            " tensor(-0.2086, grad_fn=<SelectBackward0>) \n",
            " tensor(-0.1034, grad_fn=<SelectBackward0>) \n",
            " tensor([0., 0., 0., 0., 0., 0., 0., 0., 0., 0., 0., 0., 0., 0., 0., 0.])\n",
            "AFTER=====\n",
            "tensor([[ 0.1989,  0.1225],\n",
            "        [ 0.2304, -0.0323]], grad_fn=<SliceBackward0>) \n",
            " tensor([[ 0.0135, -0.0509],\n",
            "        [ 0.0938,  0.0442]], grad_fn=<SliceBackward0>) \n",
            " tensor(-0.2126, grad_fn=<SelectBackward0>) \n",
            " tensor(-0.1126, grad_fn=<SelectBackward0>) \n",
            " tensor([0., 0., 0., 0., 0., 0., 0., 0., 0., 0., 0., 0., 0., 0., 0., 0.])\n",
            "tensor([8, 0, 3, 5, 5, 9, 7, 3, 4, 5, 4, 7, 6, 3, 5, 2])\n",
            "torch.Size([16, 784])\n",
            "0.115 torch.Size([16, 784])\n",
            "0.1171 torch.Size([16, 784])\n",
            "0.1192 torch.Size([16, 784])\n",
            "0.1339 "
          ]
        }
      ]
    },
    {
      "cell_type": "code",
      "source": [
        "def train_epoch(model):\n",
        "  for xb, yb in dl_train:\n",
        "    xb = xb.view(xb.size(0), -1)\n",
        "    yb = yb.view(-1)\n",
        "    calc_grad(xb, yb, model)\n",
        "    opt.step()\n",
        "    opt.zero_grad()\n",
        "\n",
        "def batch_accuracy(preds, yb): # xb is pure logits\n",
        "  _,preds_class = torch.max(preds, dim=1)\n",
        "  return (preds_class == yb).float().mean()\n",
        "\n",
        "def validate_epoch(model):\n",
        "  accs = [batch_accuracy(model(xb.view(xb.size(0), -1)), yb) for xb, yb in dl_valid]\n",
        "  return round(torch.stack(accs).mean().item(), 4)\n",
        "\n",
        "def train_model(model, epochs):\n",
        "  for i in range(epochs):\n",
        "    train_epoch(model)\n",
        "    print(validate_epoch(model), end=' ')"
      ],
      "metadata": {
        "id": "i3lrpv_PzpR3"
      },
      "execution_count": 69,
      "outputs": []
    },
    {
      "cell_type": "code",
      "source": [
        "opt = BasicOptimizer((w1, w2, b1, b2), 0.1)\n",
        "#train_epoch(linear1)\n",
        "# xb, yb = next(iter(dl_train))\n",
        "# xb.shape,yb.shape\n",
        "# xb = xb.view(xb.size(0), -1)\n",
        "train_model(linear1, 10)\n",
        "\n",
        "# opt.step()\n",
        "# print(\"THis is w1: \", w1)\n",
        "# opt.zero_grad()\n",
        "# print(\"b1.grad: \", b1.grad)\n",
        "# out = linear1(xb).sum()\n",
        "# print(\"Sum: \", out)\n",
        "# opt.zero_grad()\n",
        "#calc_grad(xb, yb, linear1)\n",
        "# opt.step()\n",
        "# opt.zero_grad()\n",
        "# preds = linear1(xb)\n",
        "# loss = mnist_loss(preds, yb)\n",
        "# loss, yb.shape, preds, softmax(preds)\n",
        "# print(\"Loss: \", loss)\n",
        "# loss.backward()\n",
        "#calc_grad(xb, yb, linear1)\n",
        "#print(\"In optimizer: this is weights \", w2.grad)\n",
        "#print(\"loss after: \", loss)"
      ],
      "metadata": {
        "colab": {
          "base_uri": "https://localhost:8080/"
        },
        "id": "t1RTbDhE1VVi",
        "outputId": "79fccc1e-363c-464c-b754-976ec9822c9f"
      },
      "execution_count": 83,
      "outputs": [
        {
          "output_type": "stream",
          "name": "stdout",
          "text": [
            "0.9541 0.9532 0.9545 0.9516 0.9526 0.9492 0.9549 0.954 0.9546 0.9547 "
          ]
        }
      ]
    },
    {
      "cell_type": "code",
      "source": [
        "w1[:2,:2], w2[:2,:2], b1[:2], b2[:2]"
      ],
      "metadata": {
        "id": "RyCmwmEauKXV",
        "outputId": "9d885fc2-01e6-49d5-d826-b6a01d73af7e",
        "colab": {
          "base_uri": "https://localhost:8080/"
        }
      },
      "execution_count": 82,
      "outputs": [
        {
          "output_type": "execute_result",
          "data": {
            "text/plain": [
              "(tensor([[ 0.1989,  0.1225],\n",
              "         [ 0.2304, -0.0323]], grad_fn=<SliceBackward0>),\n",
              " tensor([[-1.3991,  0.7142],\n",
              "         [ 1.0047,  0.3635]], grad_fn=<SliceBackward0>),\n",
              " tensor([1.4918, 0.2306], grad_fn=<SliceBackward0>),\n",
              " tensor([ 0.1015, -0.8929], grad_fn=<SliceBackward0>))"
            ]
          },
          "metadata": {},
          "execution_count": 82
        }
      ]
    },
    {
      "cell_type": "code",
      "source": [
        "w1[:2,:2], w2[:2,:2], b1[:2], b2[:2]"
      ],
      "metadata": {
        "id": "GE1raPc9wuji",
        "outputId": "aa567472-b9e7-4809-d48a-131506868a4a",
        "colab": {
          "base_uri": "https://localhost:8080/"
        }
      },
      "execution_count": 85,
      "outputs": [
        {
          "output_type": "execute_result",
          "data": {
            "text/plain": [
              "(tensor([[ 0.1989,  0.1225],\n",
              "         [ 0.2304, -0.0323]], grad_fn=<SliceBackward0>),\n",
              " tensor([[-1.6673,  0.8927],\n",
              "         [ 1.1866,  0.4271]], grad_fn=<SliceBackward0>),\n",
              " tensor([1.8834, 0.3256], grad_fn=<SliceBackward0>),\n",
              " tensor([ 0.2119, -1.3242], grad_fn=<SliceBackward0>))"
            ]
          },
          "metadata": {},
          "execution_count": 85
        }
      ]
    },
    {
      "cell_type": "code",
      "source": [
        "model = nn.Sequential(\n",
        "    nn.Linear(28*28, 16),\n",
        "    nn.ReLU(),\n",
        "    nn.Linear(16, 10)\n",
        ").to(device)\n",
        "\n",
        "\n",
        "loss_fn = nn.CrossEntropyLoss()\n",
        "optimizer = torch.optim.SGD(model.parameters(), lr=0.01)\n",
        "\n",
        "\n",
        "def accuracy(model, dataloader):\n",
        "    model.eval()\n",
        "    correct = total = 0\n",
        "    with torch.no_grad():\n",
        "        for xb, yb in dataloader:\n",
        "            xb, yb = xb.to(device), yb.to(device)\n",
        "            xb = xb.view(xb.size(0), -1)\n",
        "            preds = model(xb)\n",
        "            pred_labels = preds.argmax(dim=1)\n",
        "            correct += (pred_labels == yb).sum().item()\n",
        "            total += yb.size(0)\n",
        "    return correct / total\n",
        "\n",
        "epochs = 5\n",
        "for epoch in range(epochs):\n",
        "    model.train()\n",
        "    for xb, yb in dl_train:\n",
        "        xb, yb = xb.to(device), yb.to(device)\n",
        "        xb = xb.view(xb.size(0), -1)  # Flatten the image\n",
        "\n",
        "        preds = model(xb)\n",
        "        loss = loss_fn(preds, yb)\n",
        "\n",
        "        loss.backward()\n",
        "        optimizer.step()\n",
        "        optimizer.zero_grad()\n",
        "\n",
        "    val_acc = accuracy(model, dl_valid)\n",
        "    print(f\"Epoch {epoch+1}/{epochs}, Validation Accuracy: {val_acc:.4f}\")"
      ],
      "metadata": {
        "colab": {
          "base_uri": "https://localhost:8080/",
          "height": 391
        },
        "id": "hbqBZ19ACNqi",
        "outputId": "d32bf9e0-2255-40cd-e5ed-227f975c562f"
      },
      "execution_count": 84,
      "outputs": [
        {
          "output_type": "stream",
          "name": "stdout",
          "text": [
            "Epoch 1/5, Validation Accuracy: 0.9035\n",
            "Epoch 2/5, Validation Accuracy: 0.9159\n"
          ]
        },
        {
          "output_type": "error",
          "ename": "KeyboardInterrupt",
          "evalue": "",
          "traceback": [
            "\u001b[0;31m---------------------------------------------------------------------------\u001b[0m",
            "\u001b[0;31mKeyboardInterrupt\u001b[0m                         Traceback (most recent call last)",
            "\u001b[0;32m/tmp/ipython-input-84-3711135461.py\u001b[0m in \u001b[0;36m<cell line: 0>\u001b[0;34m()\u001b[0m\n\u001b[1;32m     26\u001b[0m \u001b[0;32mfor\u001b[0m \u001b[0mepoch\u001b[0m \u001b[0;32min\u001b[0m \u001b[0mrange\u001b[0m\u001b[0;34m(\u001b[0m\u001b[0mepochs\u001b[0m\u001b[0;34m)\u001b[0m\u001b[0;34m:\u001b[0m\u001b[0;34m\u001b[0m\u001b[0;34m\u001b[0m\u001b[0m\n\u001b[1;32m     27\u001b[0m     \u001b[0mmodel\u001b[0m\u001b[0;34m.\u001b[0m\u001b[0mtrain\u001b[0m\u001b[0;34m(\u001b[0m\u001b[0;34m)\u001b[0m\u001b[0;34m\u001b[0m\u001b[0;34m\u001b[0m\u001b[0m\n\u001b[0;32m---> 28\u001b[0;31m     \u001b[0;32mfor\u001b[0m \u001b[0mxb\u001b[0m\u001b[0;34m,\u001b[0m \u001b[0myb\u001b[0m \u001b[0;32min\u001b[0m \u001b[0mdl_train\u001b[0m\u001b[0;34m:\u001b[0m\u001b[0;34m\u001b[0m\u001b[0;34m\u001b[0m\u001b[0m\n\u001b[0m\u001b[1;32m     29\u001b[0m         \u001b[0mxb\u001b[0m\u001b[0;34m,\u001b[0m \u001b[0myb\u001b[0m \u001b[0;34m=\u001b[0m \u001b[0mxb\u001b[0m\u001b[0;34m.\u001b[0m\u001b[0mto\u001b[0m\u001b[0;34m(\u001b[0m\u001b[0mdevice\u001b[0m\u001b[0;34m)\u001b[0m\u001b[0;34m,\u001b[0m \u001b[0myb\u001b[0m\u001b[0;34m.\u001b[0m\u001b[0mto\u001b[0m\u001b[0;34m(\u001b[0m\u001b[0mdevice\u001b[0m\u001b[0;34m)\u001b[0m\u001b[0;34m\u001b[0m\u001b[0;34m\u001b[0m\u001b[0m\n\u001b[1;32m     30\u001b[0m         \u001b[0mxb\u001b[0m \u001b[0;34m=\u001b[0m \u001b[0mxb\u001b[0m\u001b[0;34m.\u001b[0m\u001b[0mview\u001b[0m\u001b[0;34m(\u001b[0m\u001b[0mxb\u001b[0m\u001b[0;34m.\u001b[0m\u001b[0msize\u001b[0m\u001b[0;34m(\u001b[0m\u001b[0;36m0\u001b[0m\u001b[0;34m)\u001b[0m\u001b[0;34m,\u001b[0m \u001b[0;34m-\u001b[0m\u001b[0;36m1\u001b[0m\u001b[0;34m)\u001b[0m  \u001b[0;31m# Flatten the image\u001b[0m\u001b[0;34m\u001b[0m\u001b[0;34m\u001b[0m\u001b[0m\n",
            "\u001b[0;32m/usr/local/lib/python3.11/dist-packages/torch/utils/data/dataloader.py\u001b[0m in \u001b[0;36m__next__\u001b[0;34m(self)\u001b[0m\n\u001b[1;32m    706\u001b[0m                 \u001b[0;31m# TODO(https://github.com/pytorch/pytorch/issues/76750)\u001b[0m\u001b[0;34m\u001b[0m\u001b[0;34m\u001b[0m\u001b[0m\n\u001b[1;32m    707\u001b[0m                 \u001b[0mself\u001b[0m\u001b[0;34m.\u001b[0m\u001b[0m_reset\u001b[0m\u001b[0;34m(\u001b[0m\u001b[0;34m)\u001b[0m  \u001b[0;31m# type: ignore[call-arg]\u001b[0m\u001b[0;34m\u001b[0m\u001b[0;34m\u001b[0m\u001b[0m\n\u001b[0;32m--> 708\u001b[0;31m             \u001b[0mdata\u001b[0m \u001b[0;34m=\u001b[0m \u001b[0mself\u001b[0m\u001b[0;34m.\u001b[0m\u001b[0m_next_data\u001b[0m\u001b[0;34m(\u001b[0m\u001b[0;34m)\u001b[0m\u001b[0;34m\u001b[0m\u001b[0;34m\u001b[0m\u001b[0m\n\u001b[0m\u001b[1;32m    709\u001b[0m             \u001b[0mself\u001b[0m\u001b[0;34m.\u001b[0m\u001b[0m_num_yielded\u001b[0m \u001b[0;34m+=\u001b[0m \u001b[0;36m1\u001b[0m\u001b[0;34m\u001b[0m\u001b[0;34m\u001b[0m\u001b[0m\n\u001b[1;32m    710\u001b[0m             if (\n",
            "\u001b[0;32m/usr/local/lib/python3.11/dist-packages/torch/utils/data/dataloader.py\u001b[0m in \u001b[0;36m_next_data\u001b[0;34m(self)\u001b[0m\n\u001b[1;32m    762\u001b[0m     \u001b[0;32mdef\u001b[0m \u001b[0m_next_data\u001b[0m\u001b[0;34m(\u001b[0m\u001b[0mself\u001b[0m\u001b[0;34m)\u001b[0m\u001b[0;34m:\u001b[0m\u001b[0;34m\u001b[0m\u001b[0;34m\u001b[0m\u001b[0m\n\u001b[1;32m    763\u001b[0m         \u001b[0mindex\u001b[0m \u001b[0;34m=\u001b[0m \u001b[0mself\u001b[0m\u001b[0;34m.\u001b[0m\u001b[0m_next_index\u001b[0m\u001b[0;34m(\u001b[0m\u001b[0;34m)\u001b[0m  \u001b[0;31m# may raise StopIteration\u001b[0m\u001b[0;34m\u001b[0m\u001b[0;34m\u001b[0m\u001b[0m\n\u001b[0;32m--> 764\u001b[0;31m         \u001b[0mdata\u001b[0m \u001b[0;34m=\u001b[0m \u001b[0mself\u001b[0m\u001b[0;34m.\u001b[0m\u001b[0m_dataset_fetcher\u001b[0m\u001b[0;34m.\u001b[0m\u001b[0mfetch\u001b[0m\u001b[0;34m(\u001b[0m\u001b[0mindex\u001b[0m\u001b[0;34m)\u001b[0m  \u001b[0;31m# may raise StopIteration\u001b[0m\u001b[0;34m\u001b[0m\u001b[0;34m\u001b[0m\u001b[0m\n\u001b[0m\u001b[1;32m    765\u001b[0m         \u001b[0;32mif\u001b[0m \u001b[0mself\u001b[0m\u001b[0;34m.\u001b[0m\u001b[0m_pin_memory\u001b[0m\u001b[0;34m:\u001b[0m\u001b[0;34m\u001b[0m\u001b[0;34m\u001b[0m\u001b[0m\n\u001b[1;32m    766\u001b[0m             \u001b[0mdata\u001b[0m \u001b[0;34m=\u001b[0m \u001b[0m_utils\u001b[0m\u001b[0;34m.\u001b[0m\u001b[0mpin_memory\u001b[0m\u001b[0;34m.\u001b[0m\u001b[0mpin_memory\u001b[0m\u001b[0;34m(\u001b[0m\u001b[0mdata\u001b[0m\u001b[0;34m,\u001b[0m \u001b[0mself\u001b[0m\u001b[0;34m.\u001b[0m\u001b[0m_pin_memory_device\u001b[0m\u001b[0;34m)\u001b[0m\u001b[0;34m\u001b[0m\u001b[0;34m\u001b[0m\u001b[0m\n",
            "\u001b[0;32m/usr/local/lib/python3.11/dist-packages/torch/utils/data/_utils/fetch.py\u001b[0m in \u001b[0;36mfetch\u001b[0;34m(self, possibly_batched_index)\u001b[0m\n\u001b[1;32m     50\u001b[0m                 \u001b[0mdata\u001b[0m \u001b[0;34m=\u001b[0m \u001b[0mself\u001b[0m\u001b[0;34m.\u001b[0m\u001b[0mdataset\u001b[0m\u001b[0;34m.\u001b[0m\u001b[0m__getitems__\u001b[0m\u001b[0;34m(\u001b[0m\u001b[0mpossibly_batched_index\u001b[0m\u001b[0;34m)\u001b[0m\u001b[0;34m\u001b[0m\u001b[0;34m\u001b[0m\u001b[0m\n\u001b[1;32m     51\u001b[0m             \u001b[0;32melse\u001b[0m\u001b[0;34m:\u001b[0m\u001b[0;34m\u001b[0m\u001b[0;34m\u001b[0m\u001b[0m\n\u001b[0;32m---> 52\u001b[0;31m                 \u001b[0mdata\u001b[0m \u001b[0;34m=\u001b[0m \u001b[0;34m[\u001b[0m\u001b[0mself\u001b[0m\u001b[0;34m.\u001b[0m\u001b[0mdataset\u001b[0m\u001b[0;34m[\u001b[0m\u001b[0midx\u001b[0m\u001b[0;34m]\u001b[0m \u001b[0;32mfor\u001b[0m \u001b[0midx\u001b[0m \u001b[0;32min\u001b[0m \u001b[0mpossibly_batched_index\u001b[0m\u001b[0;34m]\u001b[0m\u001b[0;34m\u001b[0m\u001b[0;34m\u001b[0m\u001b[0m\n\u001b[0m\u001b[1;32m     53\u001b[0m         \u001b[0;32melse\u001b[0m\u001b[0;34m:\u001b[0m\u001b[0;34m\u001b[0m\u001b[0;34m\u001b[0m\u001b[0m\n\u001b[1;32m     54\u001b[0m             \u001b[0mdata\u001b[0m \u001b[0;34m=\u001b[0m \u001b[0mself\u001b[0m\u001b[0;34m.\u001b[0m\u001b[0mdataset\u001b[0m\u001b[0;34m[\u001b[0m\u001b[0mpossibly_batched_index\u001b[0m\u001b[0;34m]\u001b[0m\u001b[0;34m\u001b[0m\u001b[0;34m\u001b[0m\u001b[0m\n",
            "\u001b[0;32m/usr/local/lib/python3.11/dist-packages/torch/utils/data/_utils/fetch.py\u001b[0m in \u001b[0;36m<listcomp>\u001b[0;34m(.0)\u001b[0m\n\u001b[1;32m     50\u001b[0m                 \u001b[0mdata\u001b[0m \u001b[0;34m=\u001b[0m \u001b[0mself\u001b[0m\u001b[0;34m.\u001b[0m\u001b[0mdataset\u001b[0m\u001b[0;34m.\u001b[0m\u001b[0m__getitems__\u001b[0m\u001b[0;34m(\u001b[0m\u001b[0mpossibly_batched_index\u001b[0m\u001b[0;34m)\u001b[0m\u001b[0;34m\u001b[0m\u001b[0;34m\u001b[0m\u001b[0m\n\u001b[1;32m     51\u001b[0m             \u001b[0;32melse\u001b[0m\u001b[0;34m:\u001b[0m\u001b[0;34m\u001b[0m\u001b[0;34m\u001b[0m\u001b[0m\n\u001b[0;32m---> 52\u001b[0;31m                 \u001b[0mdata\u001b[0m \u001b[0;34m=\u001b[0m \u001b[0;34m[\u001b[0m\u001b[0mself\u001b[0m\u001b[0;34m.\u001b[0m\u001b[0mdataset\u001b[0m\u001b[0;34m[\u001b[0m\u001b[0midx\u001b[0m\u001b[0;34m]\u001b[0m \u001b[0;32mfor\u001b[0m \u001b[0midx\u001b[0m \u001b[0;32min\u001b[0m \u001b[0mpossibly_batched_index\u001b[0m\u001b[0;34m]\u001b[0m\u001b[0;34m\u001b[0m\u001b[0;34m\u001b[0m\u001b[0m\n\u001b[0m\u001b[1;32m     53\u001b[0m         \u001b[0;32melse\u001b[0m\u001b[0;34m:\u001b[0m\u001b[0;34m\u001b[0m\u001b[0;34m\u001b[0m\u001b[0m\n\u001b[1;32m     54\u001b[0m             \u001b[0mdata\u001b[0m \u001b[0;34m=\u001b[0m \u001b[0mself\u001b[0m\u001b[0;34m.\u001b[0m\u001b[0mdataset\u001b[0m\u001b[0;34m[\u001b[0m\u001b[0mpossibly_batched_index\u001b[0m\u001b[0;34m]\u001b[0m\u001b[0;34m\u001b[0m\u001b[0;34m\u001b[0m\u001b[0m\n",
            "\u001b[0;32m/usr/local/lib/python3.11/dist-packages/torchvision/datasets/mnist.py\u001b[0m in \u001b[0;36m__getitem__\u001b[0;34m(self, index)\u001b[0m\n\u001b[1;32m    144\u001b[0m \u001b[0;34m\u001b[0m\u001b[0m\n\u001b[1;32m    145\u001b[0m         \u001b[0;32mif\u001b[0m \u001b[0mself\u001b[0m\u001b[0;34m.\u001b[0m\u001b[0mtransform\u001b[0m \u001b[0;32mis\u001b[0m \u001b[0;32mnot\u001b[0m \u001b[0;32mNone\u001b[0m\u001b[0;34m:\u001b[0m\u001b[0;34m\u001b[0m\u001b[0;34m\u001b[0m\u001b[0m\n\u001b[0;32m--> 146\u001b[0;31m             \u001b[0mimg\u001b[0m \u001b[0;34m=\u001b[0m \u001b[0mself\u001b[0m\u001b[0;34m.\u001b[0m\u001b[0mtransform\u001b[0m\u001b[0;34m(\u001b[0m\u001b[0mimg\u001b[0m\u001b[0;34m)\u001b[0m\u001b[0;34m\u001b[0m\u001b[0;34m\u001b[0m\u001b[0m\n\u001b[0m\u001b[1;32m    147\u001b[0m \u001b[0;34m\u001b[0m\u001b[0m\n\u001b[1;32m    148\u001b[0m         \u001b[0;32mif\u001b[0m \u001b[0mself\u001b[0m\u001b[0;34m.\u001b[0m\u001b[0mtarget_transform\u001b[0m \u001b[0;32mis\u001b[0m \u001b[0;32mnot\u001b[0m \u001b[0;32mNone\u001b[0m\u001b[0;34m:\u001b[0m\u001b[0;34m\u001b[0m\u001b[0;34m\u001b[0m\u001b[0m\n",
            "\u001b[0;31mKeyboardInterrupt\u001b[0m: "
          ]
        }
      ]
    },
    {
      "cell_type": "code",
      "source": [
        "import torch\n",
        "\n",
        "# Your init function\n",
        "def init_params(size, std=1.0):\n",
        "    return (torch.randn(size) * std).requires_grad_()\n",
        "\n",
        "# Initialize weights\n",
        "w1 = init_params((784, 16))\n",
        "b1 = init_params((16,))\n",
        "\n",
        "# Dummy input (batch of 16 images, flattened to 784)\n",
        "xb = torch.randn(16, 784)\n",
        "\n",
        "# Forward pass\n",
        "def linear1(x):\n",
        "    return x @ w1 + b1\n",
        "\n",
        "# Compute output and backward\n",
        "out = linear1(xb).sum()\n",
        "out.backward()\n",
        "\n",
        "# Print grad\n",
        "print(\"requires_grad:\", w1.requires_grad)  # should be True\n",
        "print(\"grad norm:\", w1.grad.norm())        # should be > 0\n",
        "print(\"grad sample:\", w1.grad[:2, :4])     # small piece of grad"
      ],
      "metadata": {
        "id": "x4nhgLgy53P3",
        "outputId": "16ec6ae4-1e38-4eed-f57f-e5e114f59f42",
        "colab": {
          "base_uri": "https://localhost:8080/"
        }
      },
      "execution_count": 67,
      "outputs": [
        {
          "output_type": "stream",
          "name": "stdout",
          "text": [
            "requires_grad: True\n",
            "grad norm: tensor(455.5259)\n",
            "grad sample: tensor([[0.7173, 0.7173, 0.7173, 0.7173],\n",
            "        [2.3409, 2.3409, 2.3409, 2.3409]])\n"
          ]
        }
      ]
    }
  ]
}