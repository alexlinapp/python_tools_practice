{
  "nbformat": 4,
  "nbformat_minor": 0,
  "metadata": {
    "colab": {
      "provenance": [],
      "authorship_tag": "ABX9TyP3EZyl+J4PNIxJmw5KMqMo",
      "include_colab_link": true
    },
    "kernelspec": {
      "name": "python3",
      "display_name": "Python 3"
    },
    "language_info": {
      "name": "python"
    }
  },
  "cells": [
    {
      "cell_type": "markdown",
      "metadata": {
        "id": "view-in-github",
        "colab_type": "text"
      },
      "source": [
        "<a href=\"https://colab.research.google.com/github/alexlinapp/python_tools_practice/blob/main/number_classifier.ipynb\" target=\"_parent\"><img src=\"https://colab.research.google.com/assets/colab-badge.svg\" alt=\"Open In Colab\"/></a>"
      ]
    },
    {
      "cell_type": "code",
      "execution_count": 28,
      "metadata": {
        "id": "um2BMdh9I6HR"
      },
      "outputs": [],
      "source": [
        "import torch\n",
        "from torchvision import datasets, transforms\n",
        "from torch.utils.data import DataLoader\n",
        "\n",
        "# Define transforms to convert PIL images to tensors\n",
        "transform = transforms.ToTensor()\n",
        "\n",
        "# Download and load MNIST training data\n",
        "mnist_train = datasets.MNIST(root='./data', train=True, download=True, transform=transform)\n",
        "\n",
        "# Download and load MNIST test data\n",
        "mnist_test = datasets.MNIST(root='./data', train=False, download=True, transform=transform)"
      ]
    },
    {
      "cell_type": "code",
      "source": [
        "dl_train = DataLoader(mnist_train, batch_size=16)\n",
        "xb, yb = next(iter(dl_train))\n",
        "xb.shape, yb.shape\n",
        "xb = xb.view(xb.size(0), -1)\n",
        "yb = yb.view(yb.size(0), -1)"
      ],
      "metadata": {
        "colab": {
          "base_uri": "https://localhost:8080/"
        },
        "id": "ZdQgZWu_K78A",
        "outputId": "7290e40b-69ec-45f2-f914-8cf30b8d3774"
      },
      "execution_count": 62,
      "outputs": [
        {
          "output_type": "execute_result",
          "data": {
            "text/plain": [
              "tensor([[5],\n",
              "        [0],\n",
              "        [4],\n",
              "        [1],\n",
              "        [9],\n",
              "        [2],\n",
              "        [1],\n",
              "        [3],\n",
              "        [1],\n",
              "        [4],\n",
              "        [3],\n",
              "        [5],\n",
              "        [3],\n",
              "        [6],\n",
              "        [1],\n",
              "        [7]])"
            ]
          },
          "metadata": {},
          "execution_count": 62
        }
      ]
    },
    {
      "cell_type": "code",
      "source": [
        "def init_params(size, std=1.0):\n",
        "  return (torch.randn(size)*std).requires_grad_()\n",
        "def mnist_loss(prediction, target):\n",
        "  prediction = prediction.sigmoid()\n",
        "  return torch.where(prediction, )"
      ],
      "metadata": {
        "id": "lvpboHxvNpic"
      },
      "execution_count": 52,
      "outputs": []
    },
    {
      "cell_type": "code",
      "source": [
        "weights = init_params((xb.size(1), 1))\n",
        "bias = init_params(1)\n",
        "def linear1(x):\n",
        "  return x@weights + bias"
      ],
      "metadata": {
        "id": "V1ndzzmJOtMF"
      },
      "execution_count": 49,
      "outputs": []
    },
    {
      "cell_type": "code",
      "source": [
        "preds = linear1(xb)\n",
        "preds"
      ],
      "metadata": {
        "colab": {
          "base_uri": "https://localhost:8080/"
        },
        "id": "lO5ZWrdrRfGv",
        "outputId": "ab3a33a1-c5cb-4cb3-c520-007f73479744"
      },
      "execution_count": 51,
      "outputs": [
        {
          "output_type": "execute_result",
          "data": {
            "text/plain": [
              "tensor([[13.7674],\n",
              "        [ 7.0368],\n",
              "        [ 8.9417],\n",
              "        [20.7591],\n",
              "        [19.0512],\n",
              "        [24.6774],\n",
              "        [-2.5220],\n",
              "        [24.0587],\n",
              "        [-3.2825],\n",
              "        [ 8.8620],\n",
              "        [12.6664],\n",
              "        [ 6.8320],\n",
              "        [ 6.6949],\n",
              "        [13.2273],\n",
              "        [-3.6416],\n",
              "        [14.9295]], grad_fn=<AddBackward0>)"
            ]
          },
          "metadata": {},
          "execution_count": 51
        }
      ]
    }
  ]
}